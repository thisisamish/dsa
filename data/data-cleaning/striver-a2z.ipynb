{
 "cells": [
  {
   "cell_type": "code",
   "execution_count": 53,
   "metadata": {},
   "outputs": [],
   "source": [
    "%run utils/devtools.py"
   ]
  },
  {
   "cell_type": "code",
   "execution_count": 54,
   "metadata": {},
   "outputs": [
    {
     "name": "stdout",
     "output_type": "stream",
     "text": [
      "✅ Reloaded package 'utils' and its submodules.\n"
     ]
    }
   ],
   "source": [
    "%reloadmypkg utils\n",
    "\n",
    "import pandas as pd\n",
    "from utils.url2platform import *\n",
    "from utils.standardise_url import *\n",
    "from utils.fetch_info import *\n",
    "from utils.dump_df_to_json import *"
   ]
  },
  {
   "cell_type": "code",
   "execution_count": 55,
   "metadata": {},
   "outputs": [],
   "source": [
    "sheet_path = \"../raw-data/striver/a2z-sheet-response-data.json\"\n",
    "export_file = \"../cleaned-data/striver/a2z.json\""
   ]
  },
  {
   "cell_type": "code",
   "execution_count": 56,
   "metadata": {},
   "outputs": [],
   "source": [
    "with open(sheet_path) as file:\n",
    "    raw = json.load(file)\n",
    "\n",
    "flattened_data = [\n",
    "    {\n",
    "        \"gfg\": topic[\"gfg_link\"],\n",
    "        \"c360\": topic[\"cs_link\"],\n",
    "        \"lc\": topic[\"lc_link\"],\n",
    "        \"original_title\": topic[\"question_title\"],\n",
    "        \"yt\": topic[\"yt_link\"],\n",
    "        \"post\": topic[\"post_link\"],\n",
    "        \"step_title\": topic[\"step_title\"],\n",
    "        \"sub_step_title\": topic[\"sub_step_title\"],\n",
    "    }\n",
    "    for step in raw[\"sheetData\"]\n",
    "    for substep in step[\"sub_steps\"]\n",
    "    for topic in substep[\"topics\"]\n",
    "]\n",
    "\n",
    "df = pd.DataFrame(flattened_data)"
   ]
  },
  {
   "cell_type": "code",
   "execution_count": 57,
   "metadata": {},
   "outputs": [],
   "source": [
    "def get_best_url(row):\n",
    "    return (\n",
    "        row[\"lc\"] or\n",
    "        row[\"gfg\"] or\n",
    "        row[\"c360\"] or\n",
    "        row[\"yt\"] or\n",
    "        row[\"post\"]\n",
    "    )"
   ]
  },
  {
   "cell_type": "code",
   "execution_count": 58,
   "metadata": {},
   "outputs": [],
   "source": [
    "df[\"url\"] = df.apply(get_best_url, axis=1)"
   ]
  },
  {
   "cell_type": "code",
   "execution_count": 59,
   "metadata": {},
   "outputs": [],
   "source": [
    "df = df[[\"url\", \"original_title\", \"step_title\", \"sub_step_title\"]]"
   ]
  },
  {
   "cell_type": "code",
   "execution_count": 60,
   "metadata": {},
   "outputs": [
    {
     "data": {
      "text/plain": [
       "(455, 4)"
      ]
     },
     "execution_count": 60,
     "metadata": {},
     "output_type": "execute_result"
    }
   ],
   "source": [
    "df.shape"
   ]
  },
  {
   "cell_type": "code",
   "execution_count": 61,
   "metadata": {},
   "outputs": [
    {
     "data": {
      "text/plain": [
       "(1, 4)"
      ]
     },
     "execution_count": 61,
     "metadata": {},
     "output_type": "execute_result"
    }
   ],
   "source": [
    "missing_urls = df[df[\"url\"].isna()]\n",
    "missing_urls.shape"
   ]
  },
  {
   "cell_type": "code",
   "execution_count": 62,
   "metadata": {},
   "outputs": [],
   "source": [
    "# Adding link for Java Collections as it is missing\n",
    "df.at[11, \"url\"] = \"https://www.youtube.com/playlist?list=PLA3GkZPtsafZZsLj0Tybu3y0HVl-hp1ea\""
   ]
  },
  {
   "cell_type": "code",
   "execution_count": 63,
   "metadata": {},
   "outputs": [
    {
     "data": {
      "text/plain": [
       "(1, 4)"
      ]
     },
     "execution_count": 63,
     "metadata": {},
     "output_type": "execute_result"
    }
   ],
   "source": [
    "incorrect_urls = df[df[\"url\"] == \"https://leetcode.com/accounts/login/?next=/problems/find-the-celebrity/\"]\n",
    "incorrect_urls.shape"
   ]
  },
  {
   "cell_type": "code",
   "execution_count": 64,
   "metadata": {},
   "outputs": [],
   "source": [
    "# Replace premium LeetCode problem with LintCode link\n",
    "df.at[226, \"url\"] = \"https://www.lintcode.com/problem/645/\""
   ]
  },
  {
   "cell_type": "code",
   "execution_count": 65,
   "metadata": {},
   "outputs": [
    {
     "data": {
      "text/plain": [
       "(2, 4)"
      ]
     },
     "execution_count": 65,
     "metadata": {},
     "output_type": "execute_result"
    }
   ],
   "source": [
    "redirect_urls = df[df[\"url\"].str.contains(\"implement-strstr\")]\n",
    "redirect_urls.shape"
   ]
  },
  {
   "cell_type": "code",
   "execution_count": 66,
   "metadata": {},
   "outputs": [],
   "source": [
    "# Fix the redirect urls\n",
    "df.at[450, \"url\"] = \"https://leetcode.com/problems/find-the-index-of-the-first-occurrence-in-a-string/\"\n",
    "df.at[451, \"url\"] = \"https://leetcode.com/problems/find-the-index-of-the-first-occurrence-in-a-string/\""
   ]
  },
  {
   "cell_type": "code",
   "execution_count": 67,
   "metadata": {},
   "outputs": [
    {
     "data": {
      "text/plain": [
       "(1, 4)"
      ]
     },
     "execution_count": 67,
     "metadata": {},
     "output_type": "execute_result"
    }
   ],
   "source": [
    "slightly_wrong_url = df[df[\"url\"].str.contains(\"coin-change-2\")]\n",
    "slightly_wrong_url.shape"
   ]
  },
  {
   "cell_type": "code",
   "execution_count": 68,
   "metadata": {},
   "outputs": [],
   "source": [
    "# Fix the redirect urls\n",
    "df.at[404, \"url\"] = \"https://leetcode.com/problems/coin-change-ii/\""
   ]
  },
  {
   "cell_type": "code",
   "execution_count": 69,
   "metadata": {},
   "outputs": [
    {
     "data": {
      "text/plain": [
       "(48, 4)"
      ]
     },
     "execution_count": 69,
     "metadata": {},
     "output_type": "execute_result"
    }
   ],
   "source": [
    "# Find the duplicates\n",
    "\n",
    "dupes_df = df[df.duplicated(subset=\"url\", keep=False)]\n",
    "dupes_df.shape"
   ]
  },
  {
   "cell_type": "code",
   "execution_count": 70,
   "metadata": {},
   "outputs": [
    {
     "name": "stdout",
     "output_type": "stream",
     "text": [
      "Total unique URLs with duplicates: 22\n"
     ]
    }
   ],
   "source": [
    "dupe_counts = dupes_df.groupby(\"url\").size()\n",
    "print(f\"Total unique URLs with duplicates: {len(dupe_counts)}\")"
   ]
  },
  {
   "cell_type": "code",
   "execution_count": 71,
   "metadata": {},
   "outputs": [
    {
     "name": "stdout",
     "output_type": "stream",
     "text": [
      "Filter list is empty. Trying to expand all 455 URLs.\n",
      "\n",
      "Processing batch 1/3\n",
      "Loaded 0 results from checkpoint\n",
      "Processing 200 pending URLs in this batch\n"
     ]
    },
    {
     "name": "stderr",
     "output_type": "stream",
     "text": [
      "Expanding URLs: 100%|██████████| 200/200 [00:03<00:00, 58.00it/s] \n"
     ]
    },
    {
     "name": "stdout",
     "output_type": "stream",
     "text": [
      "Progress saved to striver-a2z-urls-expanded.json\n",
      "----------------------------------------------------------------------\n",
      "Progress saved to striver-a2z-urls-expanded.json\n",
      "----------------------------------------------------------------------\n",
      "\n",
      "Processing batch 2/3\n",
      "Loaded 200 results from checkpoint\n",
      "Processing 200 pending URLs in this batch\n"
     ]
    },
    {
     "name": "stderr",
     "output_type": "stream",
     "text": [
      "Expanding URLs: 100%|██████████| 200/200 [00:03<00:00, 65.20it/s] \n"
     ]
    },
    {
     "name": "stdout",
     "output_type": "stream",
     "text": [
      "Progress saved to striver-a2z-urls-expanded.json\n",
      "----------------------------------------------------------------------\n",
      "Progress saved to striver-a2z-urls-expanded.json\n",
      "----------------------------------------------------------------------\n",
      "\n",
      "Processing batch 3/3\n",
      "Loaded 400 results from checkpoint\n",
      "Processing 55 pending URLs in this batch\n"
     ]
    },
    {
     "name": "stderr",
     "output_type": "stream",
     "text": [
      "Expanding URLs: 100%|██████████| 55/55 [00:02<00:00, 18.39it/s]"
     ]
    },
    {
     "name": "stdout",
     "output_type": "stream",
     "text": [
      "Progress saved to striver-a2z-urls-expanded.json\n",
      "----------------------------------------------------------------------\n",
      "Progress saved to striver-a2z-urls-expanded.json\n",
      "----------------------------------------------------------------------\n",
      "\n",
      "455/455 URLs expanded in 16.64 seconds.\n"
     ]
    },
    {
     "name": "stderr",
     "output_type": "stream",
     "text": [
      "\n"
     ]
    }
   ],
   "source": [
    "import nest_asyncio\n",
    "nest_asyncio.apply()\n",
    "\n",
    "# filter_list = [\"bit.ly\", \"codingninjas.com/codestudio\", \"codingninjas.com/studio\", \"//youtu.be\"]\n",
    "standardised_df = await standardise_urls_async(df, \"striver-a2z-urls-expanded.json\")"
   ]
  },
  {
   "cell_type": "code",
   "execution_count": 72,
   "metadata": {},
   "outputs": [
    {
     "data": {
      "text/plain": [
       "(455, 6)"
      ]
     },
     "execution_count": 72,
     "metadata": {},
     "output_type": "execute_result"
    }
   ],
   "source": [
    "standardised_df.shape"
   ]
  },
  {
   "cell_type": "code",
   "execution_count": 73,
   "metadata": {},
   "outputs": [],
   "source": [
    "# Adding type column\n",
    "standardised_df['type'] = standardised_df['expanded_stripped_url'].apply(\n",
    "    lambda url: \"problem\" if is_problem_url(url) else \"tutorial\"\n",
    ")"
   ]
  },
  {
   "cell_type": "code",
   "execution_count": 74,
   "metadata": {},
   "outputs": [
    {
     "data": {
      "text/plain": [
       "(455, 7)"
      ]
     },
     "execution_count": 74,
     "metadata": {},
     "output_type": "execute_result"
    }
   ],
   "source": [
    "standardised_df.shape"
   ]
  },
  {
   "cell_type": "code",
   "execution_count": 75,
   "metadata": {},
   "outputs": [
    {
     "data": {
      "text/html": [
       "<div>\n",
       "<style scoped>\n",
       "    .dataframe tbody tr th:only-of-type {\n",
       "        vertical-align: middle;\n",
       "    }\n",
       "\n",
       "    .dataframe tbody tr th {\n",
       "        vertical-align: top;\n",
       "    }\n",
       "\n",
       "    .dataframe thead th {\n",
       "        text-align: right;\n",
       "    }\n",
       "</style>\n",
       "<table border=\"1\" class=\"dataframe\">\n",
       "  <thead>\n",
       "    <tr style=\"text-align: right;\">\n",
       "      <th></th>\n",
       "      <th>url</th>\n",
       "      <th>original_title</th>\n",
       "      <th>step_title</th>\n",
       "      <th>sub_step_title</th>\n",
       "      <th>expanded_url</th>\n",
       "      <th>expanded_stripped_url</th>\n",
       "      <th>type</th>\n",
       "    </tr>\n",
       "  </thead>\n",
       "  <tbody>\n",
       "    <tr>\n",
       "      <th>0</th>\n",
       "      <td>https://practice.geeksforgeeks.org/problems/se...</td>\n",
       "      <td>User Input / Output</td>\n",
       "      <td>Learn the basics</td>\n",
       "      <td>Things to Know in C++/Java/Python or any language</td>\n",
       "      <td>https://www.geeksforgeeks.org/problems/search-...</td>\n",
       "      <td>https://www.geeksforgeeks.org/problems/search-...</td>\n",
       "      <td>problem</td>\n",
       "    </tr>\n",
       "  </tbody>\n",
       "</table>\n",
       "</div>"
      ],
      "text/plain": [
       "                                                 url       original_title  \\\n",
       "0  https://practice.geeksforgeeks.org/problems/se...  User Input / Output   \n",
       "\n",
       "         step_title                                     sub_step_title  \\\n",
       "0  Learn the basics  Things to Know in C++/Java/Python or any language   \n",
       "\n",
       "                                        expanded_url  \\\n",
       "0  https://www.geeksforgeeks.org/problems/search-...   \n",
       "\n",
       "                               expanded_stripped_url     type  \n",
       "0  https://www.geeksforgeeks.org/problems/search-...  problem  "
      ]
     },
     "execution_count": 75,
     "metadata": {},
     "output_type": "execute_result"
    }
   ],
   "source": [
    "standardised_df.head(1)"
   ]
  },
  {
   "cell_type": "code",
   "execution_count": 76,
   "metadata": {},
   "outputs": [
    {
     "name": "stdout",
     "output_type": "stream",
     "text": [
      "Found 455 URLs.\n",
      "\n",
      "Batch 1/3: items 0-199\n",
      "Loaded 0 from checkpoint\n",
      "Processing 200 URLs...\n"
     ]
    },
    {
     "name": "stderr",
     "output_type": "stream",
     "text": [
      "Fetching items: 100%|██████████| 200/200 [00:03<00:00, 59.46it/s] \n"
     ]
    },
    {
     "name": "stdout",
     "output_type": "stream",
     "text": [
      "Saved progress (200 items) to striver-a2z-info-added.json\n",
      "------------------------------\n",
      "Saved progress (200 items) to striver-a2z-info-added.json\n",
      "------------------------------\n",
      "\n",
      "Batch 2/3: items 200-399\n",
      "Loaded 200 from checkpoint\n",
      "Processing 200 URLs...\n"
     ]
    },
    {
     "name": "stderr",
     "output_type": "stream",
     "text": [
      "Fetching items: 100%|██████████| 200/200 [00:03<00:00, 65.02it/s] \n"
     ]
    },
    {
     "name": "stdout",
     "output_type": "stream",
     "text": [
      "Saved progress (400 items) to striver-a2z-info-added.json\n",
      "------------------------------\n",
      "Saved progress (400 items) to striver-a2z-info-added.json\n",
      "------------------------------\n",
      "\n",
      "Batch 3/3: items 400-454\n",
      "Loaded 400 from checkpoint\n",
      "Processing 55 URLs...\n"
     ]
    },
    {
     "name": "stderr",
     "output_type": "stream",
     "text": [
      "Fetching items: 100%|██████████| 55/55 [00:02<00:00, 26.89it/s]"
     ]
    },
    {
     "name": "stdout",
     "output_type": "stream",
     "text": [
      "Saved progress (455 items) to striver-a2z-info-added.json\n",
      "------------------------------\n",
      "Saved progress (455 items) to striver-a2z-info-added.json\n",
      "------------------------------\n",
      "\n",
      "Fetched 455/455 items in 8.7s.\n"
     ]
    },
    {
     "name": "stderr",
     "output_type": "stream",
     "text": [
      "\n"
     ]
    }
   ],
   "source": [
    "# Adding id_base, id, title, platform columns\n",
    "import nest_asyncio\n",
    "nest_asyncio.apply()\n",
    "\n",
    "final_df = await fetch_info(standardised_df, \"striver-a2z-info-added.json\")"
   ]
  },
  {
   "cell_type": "code",
   "execution_count": 77,
   "metadata": {},
   "outputs": [
    {
     "data": {
      "text/plain": [
       "(455, 11)"
      ]
     },
     "execution_count": 77,
     "metadata": {},
     "output_type": "execute_result"
    }
   ],
   "source": [
    "final_df.shape"
   ]
  },
  {
   "cell_type": "code",
   "execution_count": 78,
   "metadata": {},
   "outputs": [],
   "source": [
    "dump_df_to_json(final_df, export_file)"
   ]
  },
  {
   "cell_type": "code",
   "execution_count": null,
   "metadata": {},
   "outputs": [],
   "source": []
  }
 ],
 "metadata": {
  "kernelspec": {
   "display_name": ".venv",
   "language": "python",
   "name": "python3"
  },
  "language_info": {
   "codemirror_mode": {
    "name": "ipython",
    "version": 3
   },
   "file_extension": ".py",
   "mimetype": "text/x-python",
   "name": "python",
   "nbconvert_exporter": "python",
   "pygments_lexer": "ipython3",
   "version": "3.13.0"
  }
 },
 "nbformat": 4,
 "nbformat_minor": 2
}
