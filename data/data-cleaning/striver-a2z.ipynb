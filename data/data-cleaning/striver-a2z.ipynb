{
 "cells": [
  {
   "cell_type": "code",
   "execution_count": 1,
   "metadata": {},
   "outputs": [],
   "source": [
    "%run utils/devtools.py"
   ]
  },
  {
   "cell_type": "code",
   "execution_count": 56,
   "metadata": {},
   "outputs": [
    {
     "name": "stdout",
     "output_type": "stream",
     "text": [
      "✅ Reloaded package 'utils' and its submodules.\n"
     ]
    }
   ],
   "source": [
    "%reloadmypkg utils\n",
    "\n",
    "import json\n",
    "import os\n",
    "from tqdm import tqdm\n",
    "from utils.url2platform import problem_url2platform\n",
    "from utils.standardise_url import expand_url, strip_query_params\n",
    "from utils.parse4db import problems_parse4db, tutorials_parse4db\n",
    "from utils.enums import ProblemPlatform"
   ]
  },
  {
   "cell_type": "code",
   "execution_count": 3,
   "metadata": {},
   "outputs": [],
   "source": [
    "sheet_path = \"../raw-data/striver/a2z-sheet-response-data.json\"\n",
    "export_file = \"../cleaned-data/striver/a2z.json\""
   ]
  },
  {
   "cell_type": "code",
   "execution_count": 4,
   "metadata": {},
   "outputs": [],
   "source": [
    "with open(sheet_path) as file:\n",
    "        raw = json.load(file)\n",
    "problems_data = [\n",
    "        {\"gfg\": topic[\"gfg_link\"], \"c360\": topic[\"cs_link\"], \"lc\": topic[\"lc_link\"], \"title\": topic[\"question_title\"], \"yt\": topic[\"yt_link\"], \"post\": topic[\"post_link\"]}\n",
    "        for step in raw[\"sheetData\"]\n",
    "        for substep in step[\"sub_steps\"]\n",
    "        for topic in substep[\"topics\"]\n",
    "]"
   ]
  },
  {
   "cell_type": "code",
   "execution_count": 5,
   "metadata": {},
   "outputs": [],
   "source": [
    "urls_titles = []\n",
    "for data in problems_data:\n",
    "    url = \"\"\n",
    "    if data[\"lc\"]:\n",
    "        url = data[\"lc\"]\n",
    "    elif data[\"gfg\"]:\n",
    "        url = data[\"gfg\"]\n",
    "    elif data[\"c360\"]:\n",
    "        url = data[\"c360\"]\n",
    "    else:\n",
    "        url = data[\"yt\"] if data[\"yt\"] is not None else data[\"post\"]\n",
    "    urls_titles.append({\"url\": url, \"title\": data[\"title\"]})"
   ]
  },
  {
   "cell_type": "code",
   "execution_count": 6,
   "metadata": {},
   "outputs": [
    {
     "data": {
      "text/plain": [
       "455"
      ]
     },
     "execution_count": 6,
     "metadata": {},
     "output_type": "execute_result"
    }
   ],
   "source": [
    "len(urls_titles)"
   ]
  },
  {
   "cell_type": "code",
   "execution_count": 7,
   "metadata": {},
   "outputs": [
    {
     "data": {
      "text/plain": [
       "[{'url': 'https://practice.geeksforgeeks.org/problems/search-query-auto-complete/0?category%5B%5D=Strings&category%5B%5D=Strings&problemStatus=unsolved&difficulty%5B%5D=2&page=1&query=category%5B%5DStringsproblemStatusunsolveddifficulty%5B%5D2page1category%5B%5DStr',\n",
       "  'title': 'User Input / Output'},\n",
       " {'url': 'https://bit.ly/3Dqmgvx', 'title': 'Data Types'},\n",
       " {'url': 'https://practice.geeksforgeeks.org/problems/java-if-else-decision-making0924/0?category%5B%5D=Java&category%5B%5D=Java&difficulty%5B%5D=-2&page=1&query=category%5B%5DJavadifficulty%5B%5D-2page1category%5B%5DJava',\n",
       "  'title': 'If Else statements'}]"
      ]
     },
     "execution_count": 7,
     "metadata": {},
     "output_type": "execute_result"
    }
   ],
   "source": [
    "urls_titles[:3]"
   ]
  },
  {
   "cell_type": "code",
   "execution_count": 8,
   "metadata": {},
   "outputs": [
    {
     "name": "stdout",
     "output_type": "stream",
     "text": [
      "11: {'url': None, 'title': 'Java Collections'}\n"
     ]
    }
   ],
   "source": [
    "for index, item in enumerate(urls_titles):\n",
    "    if  item[\"url\"] is None:\n",
    "        print(f\"{index}: {item}\")"
   ]
  },
  {
   "cell_type": "code",
   "execution_count": 9,
   "metadata": {},
   "outputs": [
    {
     "data": {
      "text/plain": [
       "{'url': 'https://www.youtube.com/playlist?list=PLA3GkZPtsafZZsLj0Tybu3y0HVl-hp1ea',\n",
       " 'title': 'Java Collections'}"
      ]
     },
     "execution_count": 9,
     "metadata": {},
     "output_type": "execute_result"
    }
   ],
   "source": [
    "# Adding link for Java Collections as it is missing\n",
    "urls_titles[11][\"url\"] = \"https://www.youtube.com/playlist?list=PLA3GkZPtsafZZsLj0Tybu3y0HVl-hp1ea\"\n",
    "\n",
    "urls_titles[11]"
   ]
  },
  {
   "cell_type": "code",
   "execution_count": 10,
   "metadata": {},
   "outputs": [
    {
     "name": "stdout",
     "output_type": "stream",
     "text": [
      "226: {'url': 'https://leetcode.com/accounts/login/?next=/problems/find-the-celebrity/', 'title': 'The Celebrity Problem'}\n"
     ]
    }
   ],
   "source": [
    "for index, item in enumerate(urls_titles):\n",
    "    if \"https://leetcode.com/accounts/login/?next=/problems/find-the-celebrity/\" in item[\"url\"]:\n",
    "        print(f\"{index}: {item}\")"
   ]
  },
  {
   "cell_type": "code",
   "execution_count": 11,
   "metadata": {},
   "outputs": [
    {
     "data": {
      "text/plain": [
       "{'url': 'https://www.lintcode.com/problem/645/',\n",
       " 'title': 'The Celebrity Problem'}"
      ]
     },
     "execution_count": 11,
     "metadata": {},
     "output_type": "execute_result"
    }
   ],
   "source": [
    "# Replace premium LeetCode problem with LintCode link\n",
    "urls_titles[226][\"url\"] = \"https://www.lintcode.com/problem/645/\"\n",
    "\n",
    "urls_titles[226]"
   ]
  },
  {
   "cell_type": "code",
   "execution_count": 12,
   "metadata": {},
   "outputs": [
    {
     "name": "stdout",
     "output_type": "stream",
     "text": [
      "450: {'url': 'https://leetcode.com/problems/implement-strstr/', 'title': 'Z-Function'}\n",
      "451: {'url': 'https://leetcode.com/problems/implement-strstr/', 'title': 'KMP algo / LPS(pi) array'}\n"
     ]
    }
   ],
   "source": [
    "for index, item in enumerate(urls_titles):\n",
    "    if \"implement-strstr\" in item[\"url\"]:\n",
    "        print(f\"{index}: {item}\")"
   ]
  },
  {
   "cell_type": "code",
   "execution_count": null,
   "metadata": {},
   "outputs": [],
   "source": [
    "# Fix the redirect urls\n",
    "urls_titles[450][\"url\"] = \"https://leetcode.com/problems/find-the-index-of-the-first-occurrence-in-a-string/\"\n",
    "urls_titles[451][\"url\"] = \"https://leetcode.com/problems/find-the-index-of-the-first-occurrence-in-a-string/\""
   ]
  },
  {
   "cell_type": "code",
   "execution_count": 25,
   "metadata": {},
   "outputs": [
    {
     "name": "stdout",
     "output_type": "stream",
     "text": [
      "404: {'url': 'https://leetcode.com/problems/coin-change-2/', 'title': 'Coin Change 2 (DP - 22)'}\n"
     ]
    }
   ],
   "source": [
    "for index, item in enumerate(urls_titles):\n",
    "    if \"coin-change-2\" in item[\"url\"]:\n",
    "        print(f\"{index}: {item}\")"
   ]
  },
  {
   "cell_type": "code",
   "execution_count": 26,
   "metadata": {},
   "outputs": [],
   "source": [
    "# Fix the redirect urls\n",
    "urls_titles[404] = \"https://leetcode.com/problems/coin-change-ii/\""
   ]
  },
  {
   "cell_type": "code",
   "execution_count": 27,
   "metadata": {},
   "outputs": [
    {
     "data": {
      "text/plain": [
       "'https://leetcode.com/problems/coin-change-ii/'"
      ]
     },
     "execution_count": 27,
     "metadata": {},
     "output_type": "execute_result"
    }
   ],
   "source": [
    "urls_titles[404]"
   ]
  },
  {
   "cell_type": "code",
   "execution_count": 14,
   "metadata": {},
   "outputs": [
    {
     "name": "stdout",
     "output_type": "stream",
     "text": [
      "{'url': 'https://leetcode.com/problems/find-the-index-of-the-first-occurrence-in-a-string/', 'title': 'Z-Function'}\n",
      "{'url': 'https://leetcode.com/problems/find-the-index-of-the-first-occurrence-in-a-string/', 'title': 'KMP algo / LPS(pi) array'}\n"
     ]
    }
   ],
   "source": [
    "print(urls_titles[450])\n",
    "print(urls_titles[451])"
   ]
  },
  {
   "cell_type": "code",
   "execution_count": 15,
   "metadata": {},
   "outputs": [
    {
     "name": "stderr",
     "output_type": "stream",
     "text": [
      "Expanding SDE URLS:   0%|▏                                          | 2/455 [00:01<06:56,  1.09it/s]"
     ]
    },
    {
     "name": "stdout",
     "output_type": "stream",
     "text": [
      "Unknown platform for url: https://youtu.be/EAR7De6Goz4?t=2415\n"
     ]
    },
    {
     "name": "stderr",
     "output_type": "stream",
     "text": [
      "Expanding SDE URLS:   2%|▊                                          | 8/455 [00:04<04:10,  1.79it/s]"
     ]
    },
    {
     "name": "stdout",
     "output_type": "stream",
     "text": [
      "Unknown platform for url: https://youtu.be/FPu9Uld7W-E\n",
      "Unknown platform for url: https://www.youtube.com/watch?v=tNm_NNSB3_w&list=PLgUwDviBIf0oF6QL8m22w1hIDC1vJ_BHz&index=3\n",
      "Unknown platform for url: https://www.youtube.com/watch?v=RRVYpIET_RU\n",
      "Unknown platform for url: https://www.youtube.com/playlist?list=PLA3GkZPtsafZZsLj0Tybu3y0HVl-hp1ea\n"
     ]
    },
    {
     "name": "stderr",
     "output_type": "stream",
     "text": [
      "Expanding SDE URLS:   5%|██                                        | 23/455 [00:08<02:49,  2.54it/s]"
     ]
    },
    {
     "name": "stdout",
     "output_type": "stream",
     "text": [
      "Unknown platform for url: https://www.youtube.com/watch?v=KEs5UyBJ39g\n"
     ]
    },
    {
     "name": "stderr",
     "output_type": "stream",
     "text": [
      "Expanding SDE URLS:  36%|██████████████▌                          | 162/455 [01:22<03:12,  1.52it/s]"
     ]
    },
    {
     "name": "stdout",
     "output_type": "stream",
     "text": [
      "Unknown platform for url: https://www.geeksforgeeks.org/generate-binary-strings-without-consecutive-1s/?utm_source=youtube&utm_medium=collab_striver_ytdescription&utm_campaign=generate-binary-strings-without-consecutive-1s\n"
     ]
    },
    {
     "name": "stderr",
     "output_type": "stream",
     "text": [
      "Expanding SDE URLS:  56%|██████████████████████▉                  | 254/455 [02:08<02:25,  1.38it/s]"
     ]
    },
    {
     "name": "stdout",
     "output_type": "stream",
     "text": [
      "Unknown platform for url: https://www.geeksforgeeks.org/find-minimum-number-of-coins-that-make-a-change/\n"
     ]
    },
    {
     "name": "stderr",
     "output_type": "stream",
     "text": [
      "Expanding SDE URLS: 100%|█████████████████████████████████████████| 455/455 [04:00<00:00,  1.89it/s]\n"
     ]
    }
   ],
   "source": [
    "problems_urls_titles = []\n",
    "tutorials_urls_titles = []\n",
    "for index in tqdm(range(len(urls_titles)), desc=\"Expanding SDE URLS\", ncols=100):\n",
    "    item = urls_titles[index]\n",
    "    url = item[\"url\"]\n",
    "    title = item[\"title\"]\n",
    "    if \"bit.ly\" in url or \"codingninjas.com/codestudio\" in url or \"codingninjas.com/studio\" in url:\n",
    "        url = expand_url(url)\n",
    "    platform = problem_url2platform(url)\n",
    "    if platform != ProblemPlatform.UNKNOWN:\n",
    "        url = strip_query_params(url)\n",
    "        problems_urls_titles.append({\"url\": url, \"title\": title})\n",
    "    else:\n",
    "        tutorials_urls_titles.append({\"url\": url, \"title\": title})"
   ]
  },
  {
   "cell_type": "code",
   "execution_count": 16,
   "metadata": {},
   "outputs": [
    {
     "data": {
      "text/plain": [
       "447"
      ]
     },
     "execution_count": 16,
     "metadata": {},
     "output_type": "execute_result"
    }
   ],
   "source": [
    "len(problems_urls_titles)"
   ]
  },
  {
   "cell_type": "code",
   "execution_count": 17,
   "metadata": {},
   "outputs": [
    {
     "data": {
      "text/plain": [
       "[{'url': 'https://practice.geeksforgeeks.org/problems/search-query-auto-complete/0',\n",
       "  'title': 'User Input / Output'},\n",
       " {'url': 'https://www.geeksforgeeks.org/problems/data-type-1666706751/1',\n",
       "  'title': 'Data Types'},\n",
       " {'url': 'https://practice.geeksforgeeks.org/problems/java-if-else-decision-making0924/0',\n",
       "  'title': 'If Else statements'},\n",
       " {'url': 'https://practice.geeksforgeeks.org/problems/java-switch-case-statement3529/1',\n",
       "  'title': 'Switch Statement'},\n",
       " {'url': 'https://www.naukri.com/code360/problems/nth-fibonacci-number_74156',\n",
       "  'title': 'For loops'}]"
      ]
     },
     "execution_count": 17,
     "metadata": {},
     "output_type": "execute_result"
    }
   ],
   "source": [
    "problems_urls_titles[:5]"
   ]
  },
  {
   "cell_type": "code",
   "execution_count": 18,
   "metadata": {},
   "outputs": [
    {
     "data": {
      "text/plain": [
       "8"
      ]
     },
     "execution_count": 18,
     "metadata": {},
     "output_type": "execute_result"
    }
   ],
   "source": [
    "len(tutorials_urls_titles)"
   ]
  },
  {
   "cell_type": "code",
   "execution_count": 19,
   "metadata": {},
   "outputs": [
    {
     "data": {
      "text/plain": [
       "[{'url': 'https://youtu.be/EAR7De6Goz4?t=2415',\n",
       "  'title': 'What are arrays, strings?'},\n",
       " {'url': 'https://youtu.be/FPu9Uld7W-E',\n",
       "  'title': 'Time Complexity [Learn Basics, and then analyse in next Steps]'},\n",
       " {'url': 'https://www.youtube.com/watch?v=tNm_NNSB3_w&list=PLgUwDviBIf0oF6QL8m22w1hIDC1vJ_BHz&index=3',\n",
       "  'title': 'Patterns'},\n",
       " {'url': 'https://www.youtube.com/watch?v=RRVYpIET_RU', 'title': 'C++ STL'},\n",
       " {'url': 'https://www.youtube.com/playlist?list=PLA3GkZPtsafZZsLj0Tybu3y0HVl-hp1ea',\n",
       "  'title': 'Java Collections'},\n",
       " {'url': 'https://www.youtube.com/watch?v=KEs5UyBJ39g',\n",
       "  'title': 'Hashing Theory'},\n",
       " {'url': 'https://www.geeksforgeeks.org/generate-binary-strings-without-consecutive-1s/?utm_source=youtube&utm_medium=collab_striver_ytdescription&utm_campaign=generate-binary-strings-without-consecutive-1s',\n",
       "  'title': 'Generate all binary strings'},\n",
       " {'url': 'https://www.geeksforgeeks.org/find-minimum-number-of-coins-that-make-a-change/',\n",
       "  'title': 'Greedy algorithm to find minimum number of coins'}]"
      ]
     },
     "execution_count": 19,
     "metadata": {},
     "output_type": "execute_result"
    }
   ],
   "source": [
    "tutorials_urls_titles"
   ]
  },
  {
   "cell_type": "code",
   "execution_count": 45,
   "metadata": {},
   "outputs": [],
   "source": [
    "# Expand YouTube urls\n",
    "for item in tutorials_urls_titles:\n",
    "    url = item['url']\n",
    "    if \"youtu.be\" in url:\n",
    "        item['url'] = expand_url(url)"
   ]
  },
  {
   "cell_type": "code",
   "execution_count": 46,
   "metadata": {},
   "outputs": [
    {
     "data": {
      "text/plain": [
       "[{'url': 'https://www.youtube.com/watch?t=2415&v=EAR7De6Goz4&feature=youtu.be',\n",
       "  'title': 'What are arrays, strings?'},\n",
       " {'url': 'https://www.youtube.com/watch?v=FPu9Uld7W-E&feature=youtu.be',\n",
       "  'title': 'Time Complexity [Learn Basics, and then analyse in next Steps]'},\n",
       " {'url': 'https://www.youtube.com/watch?v=tNm_NNSB3_w&list=PLgUwDviBIf0oF6QL8m22w1hIDC1vJ_BHz&index=3',\n",
       "  'title': 'Patterns'},\n",
       " {'url': 'https://www.youtube.com/watch?v=RRVYpIET_RU', 'title': 'C++ STL'},\n",
       " {'url': 'https://www.youtube.com/playlist?list=PLA3GkZPtsafZZsLj0Tybu3y0HVl-hp1ea',\n",
       "  'title': 'Java Collections'},\n",
       " {'url': 'https://www.youtube.com/watch?v=KEs5UyBJ39g',\n",
       "  'title': 'Hashing Theory'},\n",
       " {'url': 'https://www.geeksforgeeks.org/generate-binary-strings-without-consecutive-1s/?utm_source=youtube&utm_medium=collab_striver_ytdescription&utm_campaign=generate-binary-strings-without-consecutive-1s',\n",
       "  'title': 'Generate all binary strings'},\n",
       " {'url': 'https://www.geeksforgeeks.org/find-minimum-number-of-coins-that-make-a-change/',\n",
       "  'title': 'Greedy algorithm to find minimum number of coins'}]"
      ]
     },
     "execution_count": 46,
     "metadata": {},
     "output_type": "execute_result"
    }
   ],
   "source": [
    "tutorials_urls_titles"
   ]
  },
  {
   "cell_type": "code",
   "execution_count": 47,
   "metadata": {},
   "outputs": [],
   "source": [
    "# Some more url standardising\n",
    "tutorials_urls_titles[0]['url'] = \"https://www.youtube.com/watch?v=EAR7De6Goz4\"\n",
    "tutorials_urls_titles[1]['url'] = \"https://www.youtube.com/watch?v=FPu9Uld7W-E\"\n",
    "tutorials_urls_titles[2]['url'] = \"https://www.youtube.com/watch?v=tNm_NNSB3_w\""
   ]
  },
  {
   "cell_type": "code",
   "execution_count": 49,
   "metadata": {},
   "outputs": [
    {
     "name": "stdout",
     "output_type": "stream",
     "text": [
      "https://www.youtube.com/watch?v=EAR7De6Goz4\n",
      "https://www.youtube.com/watch?v=FPu9Uld7W-E\n",
      "https://www.youtube.com/watch?v=tNm_NNSB3_w\n"
     ]
    }
   ],
   "source": [
    "print(tutorials_urls_titles[0]['url'])\n",
    "print(tutorials_urls_titles[1]['url'])\n",
    "print(tutorials_urls_titles[2]['url'])"
   ]
  },
  {
   "cell_type": "code",
   "execution_count": 20,
   "metadata": {},
   "outputs": [],
   "source": [
    "urls = [item[\"url\"] for item in problems_urls_titles]"
   ]
  },
  {
   "cell_type": "code",
   "execution_count": 21,
   "metadata": {},
   "outputs": [
    {
     "data": {
      "text/plain": [
       "447"
      ]
     },
     "execution_count": 21,
     "metadata": {},
     "output_type": "execute_result"
    }
   ],
   "source": [
    "len(urls)"
   ]
  },
  {
   "cell_type": "code",
   "execution_count": 22,
   "metadata": {},
   "outputs": [
    {
     "data": {
      "text/plain": [
       "['https://practice.geeksforgeeks.org/problems/search-query-auto-complete/0',\n",
       " 'https://www.geeksforgeeks.org/problems/data-type-1666706751/1',\n",
       " 'https://practice.geeksforgeeks.org/problems/java-if-else-decision-making0924/0',\n",
       " 'https://practice.geeksforgeeks.org/problems/java-switch-case-statement3529/1',\n",
       " 'https://www.naukri.com/code360/problems/nth-fibonacci-number_74156']"
      ]
     },
     "execution_count": 22,
     "metadata": {},
     "output_type": "execute_result"
    }
   ],
   "source": [
    "urls[:5]"
   ]
  },
  {
   "cell_type": "code",
   "execution_count": 36,
   "metadata": {},
   "outputs": [
    {
     "name": "stdout",
     "output_type": "stream",
     "text": [
      "Loaded 396 previously parsed items.\n"
     ]
    },
    {
     "name": "stderr",
     "output_type": "stream",
     "text": [
      "Processing URLs:  11%|█████▏                                       | 51/447 [00:42<05:27,  1.21it/s]\n"
     ]
    },
    {
     "data": {
      "text/plain": [
       "447"
      ]
     },
     "execution_count": 36,
     "metadata": {},
     "output_type": "execute_result"
    }
   ],
   "source": [
    "parsed_data = problems_parse4db(urls, \"striver-a2z-progress.json\")\n",
    "len(parsed_data)"
   ]
  },
  {
   "cell_type": "code",
   "execution_count": 39,
   "metadata": {},
   "outputs": [
    {
     "data": {
      "text/plain": [
       "[{'id': '706686GFG',\n",
       "  'type': 'problem',\n",
       "  'title': 'Search Query Auto Complete',\n",
       "  'platform': 'GFG',\n",
       "  'href': 'https://practice.geeksforgeeks.org/problems/search-query-auto-complete/0'},\n",
       " {'id': '712535GFG',\n",
       "  'type': 'problem',\n",
       "  'title': 'Data Type',\n",
       "  'platform': 'GFG',\n",
       "  'href': 'https://www.geeksforgeeks.org/problems/data-type-1666706751/1'},\n",
       " {'id': '703776GFG',\n",
       "  'type': 'problem',\n",
       "  'title': 'Decision Making in Java',\n",
       "  'platform': 'GFG',\n",
       "  'href': 'https://practice.geeksforgeeks.org/problems/java-if-else-decision-making0924/0'}]"
      ]
     },
     "execution_count": 39,
     "metadata": {},
     "output_type": "execute_result"
    }
   ],
   "source": [
    "parsed_data[:3]"
   ]
  },
  {
   "cell_type": "code",
   "execution_count": 40,
   "metadata": {},
   "outputs": [],
   "source": [
    "problems_parsed = [{**parsed_data[i], \"title\": problems_urls_titles[i][\"title\"]} for i in range(len(parsed_data))]"
   ]
  },
  {
   "cell_type": "code",
   "execution_count": 41,
   "metadata": {},
   "outputs": [
    {
     "data": {
      "text/plain": [
       "447"
      ]
     },
     "execution_count": 41,
     "metadata": {},
     "output_type": "execute_result"
    }
   ],
   "source": [
    "len(problems_parsed)"
   ]
  },
  {
   "cell_type": "code",
   "execution_count": 43,
   "metadata": {},
   "outputs": [
    {
     "data": {
      "text/plain": [
       "[{'id': '706686GFG',\n",
       "  'type': 'problem',\n",
       "  'title': 'User Input / Output',\n",
       "  'platform': 'GFG',\n",
       "  'href': 'https://practice.geeksforgeeks.org/problems/search-query-auto-complete/0'},\n",
       " {'id': '712535GFG',\n",
       "  'type': 'problem',\n",
       "  'title': 'Data Types',\n",
       "  'platform': 'GFG',\n",
       "  'href': 'https://www.geeksforgeeks.org/problems/data-type-1666706751/1'},\n",
       " {'id': '703776GFG',\n",
       "  'type': 'problem',\n",
       "  'title': 'If Else statements',\n",
       "  'platform': 'GFG',\n",
       "  'href': 'https://practice.geeksforgeeks.org/problems/java-if-else-decision-making0924/0'}]"
      ]
     },
     "execution_count": 43,
     "metadata": {},
     "output_type": "execute_result"
    }
   ],
   "source": [
    "problems_parsed[:3]"
   ]
  },
  {
   "cell_type": "code",
   "execution_count": 57,
   "metadata": {},
   "outputs": [
    {
     "name": "stderr",
     "output_type": "stream",
     "text": [
      "Processing URLs: 100%|██████████████████████████████████████████████| 8/8 [00:00<00:00, 2877.74it/s]\n"
     ]
    }
   ],
   "source": [
    "tutorials_parsed = tutorials_parse4db(tutorials_urls_titles)"
   ]
  },
  {
   "cell_type": "code",
   "execution_count": 58,
   "metadata": {},
   "outputs": [
    {
     "data": {
      "text/plain": [
       "[{'id': '06e65f22-a381-534e-bdac-09e185b15f15YT',\n",
       "  'type': 'tutorial',\n",
       "  'title': 'What are arrays, strings?',\n",
       "  'platform': 'YT',\n",
       "  'href': 'https://www.youtube.com/watch?v=EAR7De6Goz4'},\n",
       " {'id': 'bfa5efb1-ae70-5806-96f6-a8d605a84317YT',\n",
       "  'type': 'tutorial',\n",
       "  'title': 'Time Complexity [Learn Basics, and then analyse in next Steps]',\n",
       "  'platform': 'YT',\n",
       "  'href': 'https://www.youtube.com/watch?v=FPu9Uld7W-E'},\n",
       " {'id': '5e2f1e1d-014e-5c63-b88d-a5be0df53444YT',\n",
       "  'type': 'tutorial',\n",
       "  'title': 'Patterns',\n",
       "  'platform': 'YT',\n",
       "  'href': 'https://www.youtube.com/watch?v=tNm_NNSB3_w'},\n",
       " {'id': '6291c4f9-96b9-54bc-9335-f8307ec9f525YT',\n",
       "  'type': 'tutorial',\n",
       "  'title': 'C++ STL',\n",
       "  'platform': 'YT',\n",
       "  'href': 'https://www.youtube.com/watch?v=RRVYpIET_RU'},\n",
       " {'id': '8783ff24-2988-5d04-afee-61eb5dafbe2eYT',\n",
       "  'type': 'tutorial',\n",
       "  'title': 'Java Collections',\n",
       "  'platform': 'YT',\n",
       "  'href': 'https://www.youtube.com/playlist?list=PLA3GkZPtsafZZsLj0Tybu3y0HVl-hp1ea'},\n",
       " {'id': '7553e515-d638-56ff-8fcb-2fbb6665f2a7YT',\n",
       "  'type': 'tutorial',\n",
       "  'title': 'Hashing Theory',\n",
       "  'platform': 'YT',\n",
       "  'href': 'https://www.youtube.com/watch?v=KEs5UyBJ39g'},\n",
       " {'id': '38d372d2-106d-5118-bea0-628ba18b39e0GFG',\n",
       "  'type': 'tutorial',\n",
       "  'title': 'Generate all binary strings',\n",
       "  'platform': 'GFG',\n",
       "  'href': 'https://www.geeksforgeeks.org/generate-binary-strings-without-consecutive-1s/?utm_source=youtube&utm_medium=collab_striver_ytdescription&utm_campaign=generate-binary-strings-without-consecutive-1s'},\n",
       " {'id': '53efce83-b7d1-5934-9c6e-9d2c02c1523aGFG',\n",
       "  'type': 'tutorial',\n",
       "  'title': 'Greedy algorithm to find minimum number of coins',\n",
       "  'platform': 'GFG',\n",
       "  'href': 'https://www.geeksforgeeks.org/find-minimum-number-of-coins-that-make-a-change/'}]"
      ]
     },
     "execution_count": 58,
     "metadata": {},
     "output_type": "execute_result"
    }
   ],
   "source": [
    "tutorials_parsed"
   ]
  },
  {
   "cell_type": "code",
   "execution_count": 59,
   "metadata": {},
   "outputs": [],
   "source": [
    "parsed_merged = problems_parsed + tutorials_parsed"
   ]
  },
  {
   "cell_type": "code",
   "execution_count": 60,
   "metadata": {},
   "outputs": [
    {
     "data": {
      "text/plain": [
       "455"
      ]
     },
     "execution_count": 60,
     "metadata": {},
     "output_type": "execute_result"
    }
   ],
   "source": [
    "len(parsed_merged)"
   ]
  },
  {
   "cell_type": "code",
   "execution_count": 61,
   "metadata": {},
   "outputs": [
    {
     "data": {
      "text/plain": [
       "[{'id': '706686GFG',\n",
       "  'type': 'problem',\n",
       "  'title': 'User Input / Output',\n",
       "  'platform': 'GFG',\n",
       "  'href': 'https://practice.geeksforgeeks.org/problems/search-query-auto-complete/0'},\n",
       " {'id': '712535GFG',\n",
       "  'type': 'problem',\n",
       "  'title': 'Data Types',\n",
       "  'platform': 'GFG',\n",
       "  'href': 'https://www.geeksforgeeks.org/problems/data-type-1666706751/1'},\n",
       " {'id': '703776GFG',\n",
       "  'type': 'problem',\n",
       "  'title': 'If Else statements',\n",
       "  'platform': 'GFG',\n",
       "  'href': 'https://practice.geeksforgeeks.org/problems/java-if-else-decision-making0924/0'}]"
      ]
     },
     "execution_count": 61,
     "metadata": {},
     "output_type": "execute_result"
    }
   ],
   "source": [
    "parsed_merged[:3]"
   ]
  },
  {
   "cell_type": "code",
   "execution_count": 62,
   "metadata": {},
   "outputs": [],
   "source": [
    "os.makedirs(os.path.dirname(export_file), exist_ok=True)"
   ]
  },
  {
   "cell_type": "code",
   "execution_count": 63,
   "metadata": {},
   "outputs": [],
   "source": [
    "with open(export_file, \"w\", encoding=\"utf-8\") as f:\n",
    "    json.dump(parsed_merged, f, ensure_ascii=False, indent=4)"
   ]
  },
  {
   "cell_type": "code",
   "execution_count": null,
   "metadata": {},
   "outputs": [],
   "source": []
  }
 ],
 "metadata": {
  "kernelspec": {
   "display_name": ".venv",
   "language": "python",
   "name": "python3"
  },
  "language_info": {
   "codemirror_mode": {
    "name": "ipython",
    "version": 3
   },
   "file_extension": ".py",
   "mimetype": "text/x-python",
   "name": "python",
   "nbconvert_exporter": "python",
   "pygments_lexer": "ipython3",
   "version": "3.13.0"
  }
 },
 "nbformat": 4,
 "nbformat_minor": 2
}
