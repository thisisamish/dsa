{
 "cells": [
  {
   "cell_type": "code",
   "execution_count": 1,
   "metadata": {},
   "outputs": [],
   "source": [
    "%run utils/devtools.py"
   ]
  },
  {
   "cell_type": "code",
   "execution_count": 32,
   "metadata": {},
   "outputs": [
    {
     "name": "stdout",
     "output_type": "stream",
     "text": [
      "✅ Reloaded package 'utils' and its submodules.\n"
     ]
    }
   ],
   "source": [
    "%reloadmypkg utils\n",
    "\n",
    "import json\n",
    "import os\n",
    "from tqdm import tqdm\n",
    "from utils.url2platform import problem_url2platform\n",
    "from utils.standardise_url import expand_url, strip_query_params\n",
    "from utils.parse4db import problems_parse4db, tutorials_parse4db\n",
    "from utils.enums import ProblemPlatform"
   ]
  },
  {
   "cell_type": "code",
   "execution_count": 3,
   "metadata": {},
   "outputs": [],
   "source": [
    "sheet_path = \"../raw-data/striver/sde-sheet-response-data.json\"\n",
    "export_file = \"../cleaned-data/striver/sde.json\""
   ]
  },
  {
   "cell_type": "code",
   "execution_count": 4,
   "metadata": {},
   "outputs": [],
   "source": [
    "with open(sheet_path) as file:\n",
    "        raw = json.load(file)\n",
    "problems_data = [\n",
    "        {\"gfg\": topic[\"gfg_link\"], \"c360\": topic[\"cs_link\"], \"lc\": topic[\"lc_link\"], \"title\": topic[\"title\"], \"yt\": topic[\"yt_link\"], \"post\": topic[\"post_link\"]}\n",
    "        for step in raw[\"sheetData\"]\n",
    "        for topic in step[\"topics\"]\n",
    "]"
   ]
  },
  {
   "cell_type": "code",
   "execution_count": 5,
   "metadata": {},
   "outputs": [],
   "source": [
    "urls_titles = []\n",
    "for data in problems_data:\n",
    "    url = \"\"\n",
    "    if data[\"lc\"]:\n",
    "        url = data[\"lc\"]\n",
    "    elif data[\"gfg\"]:\n",
    "        url = data[\"gfg\"]\n",
    "    elif data[\"c360\"]:\n",
    "        url = data[\"c360\"]\n",
    "    else:\n",
    "        url = data[\"yt\"] if data[\"yt\"] is not None else data[\"post\"]\n",
    "    urls_titles.append({\"url\": url, \"title\": data[\"title\"]})"
   ]
  },
  {
   "cell_type": "code",
   "execution_count": 6,
   "metadata": {},
   "outputs": [
    {
     "data": {
      "text/plain": [
       "191"
      ]
     },
     "execution_count": 6,
     "metadata": {},
     "output_type": "execute_result"
    }
   ],
   "source": [
    "len(urls_titles)"
   ]
  },
  {
   "cell_type": "code",
   "execution_count": 7,
   "metadata": {},
   "outputs": [
    {
     "data": {
      "text/plain": [
       "[{'url': 'https://leetcode.com/problems/set-matrix-zeroes/',\n",
       "  'title': 'Set Matrix Zeros'},\n",
       " {'url': 'https://leetcode.com/problems/pascals-triangle/',\n",
       "  'title': \"Pascal's Triangle\"},\n",
       " {'url': 'https://leetcode.com/problems/next-permutation/',\n",
       "  'title': 'Next Permutation'}]"
      ]
     },
     "execution_count": 7,
     "metadata": {},
     "output_type": "execute_result"
    }
   ],
   "source": [
    "urls_titles[:3]"
   ]
  },
  {
   "cell_type": "code",
   "execution_count": 8,
   "metadata": {},
   "outputs": [
    {
     "data": {
      "text/plain": [
       "{'url': 'https://leetcode.com/accounts/login/?next=/problems/find-the-celebrity/',\n",
       " 'title': 'The Celebrity Problem'}"
      ]
     },
     "execution_count": 8,
     "metadata": {},
     "output_type": "execute_result"
    }
   ],
   "source": [
    "urls_titles[90]"
   ]
  },
  {
   "cell_type": "code",
   "execution_count": 9,
   "metadata": {},
   "outputs": [
    {
     "data": {
      "text/plain": [
       "{'url': 'https://www.lintcode.com/problem/645/',\n",
       " 'title': 'The Celebrity Problem'}"
      ]
     },
     "execution_count": 9,
     "metadata": {},
     "output_type": "execute_result"
    }
   ],
   "source": [
    "# Replace premium LeetCode problem with LintCode link\n",
    "urls_titles[90][\"url\"] = \"https://www.lintcode.com/problem/645/\"\n",
    "\n",
    "urls_titles[90]"
   ]
  },
  {
   "cell_type": "code",
   "execution_count": 10,
   "metadata": {},
   "outputs": [
    {
     "name": "stdout",
     "output_type": "stream",
     "text": [
      "97: {'url': 'https://leetcode.com/problems/implement-strstr/', 'title': 'Z-Function'}\n",
      "98: {'url': 'https://leetcode.com/problems/implement-strstr/', 'title': 'KMP algo / LPS(pi) array'}\n"
     ]
    }
   ],
   "source": [
    "for index, item in enumerate(urls_titles):\n",
    "    if \"implement-strstr\" in item[\"url\"]:\n",
    "        print(f\"{index}: {item}\")"
   ]
  },
  {
   "cell_type": "code",
   "execution_count": 11,
   "metadata": {},
   "outputs": [],
   "source": [
    "# Fix the redirect urls\n",
    "urls_titles[97][\"url\"] = \"https://leetcode.com/problems/find-the-index-of-the-first-occurrence-in-a-string/\"\n",
    "urls_titles[98][\"url\"] = \"https://leetcode.com/problems/find-the-index-of-the-first-occurrence-in-a-string/\""
   ]
  },
  {
   "cell_type": "code",
   "execution_count": 12,
   "metadata": {},
   "outputs": [
    {
     "name": "stdout",
     "output_type": "stream",
     "text": [
      "{'url': 'https://leetcode.com/problems/find-the-index-of-the-first-occurrence-in-a-string/', 'title': 'Z-Function'}\n",
      "{'url': 'https://leetcode.com/problems/find-the-index-of-the-first-occurrence-in-a-string/', 'title': 'KMP algo / LPS(pi) array'}\n"
     ]
    }
   ],
   "source": [
    "print(urls_titles[97])\n",
    "print(urls_titles[98])"
   ]
  },
  {
   "cell_type": "code",
   "execution_count": 14,
   "metadata": {},
   "outputs": [
    {
     "name": "stderr",
     "output_type": "stream",
     "text": [
      "Expanding SDE URLS:   6%|██▋                                       | 12/191 [00:00<00:09, 18.47it/s]"
     ]
    },
    {
     "name": "stdout",
     "output_type": "stream",
     "text": [
      "Unknown platform for url: https://www.geeksforgeeks.org/find-minimum-number-of-coins-that-make-a-change/\n"
     ]
    },
    {
     "name": "stderr",
     "output_type": "stream",
     "text": [
      "Expanding SDE URLS: 100%|█████████████████████████████████████████| 191/191 [00:20<00:00,  9.20it/s]\n"
     ]
    }
   ],
   "source": [
    "problems_urls_titles = []\n",
    "tutorials_urls_titles = []\n",
    "for index in tqdm(range(len(urls_titles)), desc=\"Expanding SDE URLS\", ncols=100):\n",
    "    item = urls_titles[index]\n",
    "    url = item[\"url\"]\n",
    "    title = item[\"title\"]\n",
    "    if \"bit.ly\" in url or \"codingninjas.com/codestudio\" in url or \"codingninjas.com/studio\" in url:\n",
    "        url = expand_url(url)\n",
    "    platform = problem_url2platform(url)\n",
    "    if platform != ProblemPlatform.UNKNOWN:\n",
    "        url = strip_query_params(url)\n",
    "        problems_urls_titles.append({\"url\": url, \"title\": title})\n",
    "    else:\n",
    "        tutorials_urls_titles.append({\"url\": url, \"title\": title})"
   ]
  },
  {
   "cell_type": "code",
   "execution_count": 15,
   "metadata": {},
   "outputs": [
    {
     "data": {
      "text/plain": [
       "190"
      ]
     },
     "execution_count": 15,
     "metadata": {},
     "output_type": "execute_result"
    }
   ],
   "source": [
    "len(problems_urls_titles)"
   ]
  },
  {
   "cell_type": "code",
   "execution_count": 16,
   "metadata": {},
   "outputs": [
    {
     "data": {
      "text/plain": [
       "[{'url': 'https://leetcode.com/problems/set-matrix-zeroes/',\n",
       "  'title': 'Set Matrix Zeros'},\n",
       " {'url': 'https://leetcode.com/problems/pascals-triangle/',\n",
       "  'title': \"Pascal's Triangle\"},\n",
       " {'url': 'https://leetcode.com/problems/next-permutation/',\n",
       "  'title': 'Next Permutation'},\n",
       " {'url': 'https://leetcode.com/problems/maximum-subarray/',\n",
       "  'title': \"Kadane's Algorithm\"},\n",
       " {'url': 'https://leetcode.com/problems/sort-colors/',\n",
       "  'title': \"Sort an array of 0's, 1's and 2's\"}]"
      ]
     },
     "execution_count": 16,
     "metadata": {},
     "output_type": "execute_result"
    }
   ],
   "source": [
    "problems_urls_titles[:5]"
   ]
  },
  {
   "cell_type": "code",
   "execution_count": 17,
   "metadata": {},
   "outputs": [
    {
     "data": {
      "text/plain": [
       "1"
      ]
     },
     "execution_count": 17,
     "metadata": {},
     "output_type": "execute_result"
    }
   ],
   "source": [
    "len(tutorials_urls_titles)"
   ]
  },
  {
   "cell_type": "code",
   "execution_count": 18,
   "metadata": {},
   "outputs": [
    {
     "data": {
      "text/plain": [
       "[{'url': 'https://www.geeksforgeeks.org/find-minimum-number-of-coins-that-make-a-change/',\n",
       "  'title': 'Greedy algorithm to find minimum number of coins'}]"
      ]
     },
     "execution_count": 18,
     "metadata": {},
     "output_type": "execute_result"
    }
   ],
   "source": [
    "tutorials_urls_titles"
   ]
  },
  {
   "cell_type": "code",
   "execution_count": 19,
   "metadata": {},
   "outputs": [],
   "source": [
    "urls = [item[\"url\"] for item in problems_urls_titles]"
   ]
  },
  {
   "cell_type": "code",
   "execution_count": 20,
   "metadata": {},
   "outputs": [
    {
     "data": {
      "text/plain": [
       "190"
      ]
     },
     "execution_count": 20,
     "metadata": {},
     "output_type": "execute_result"
    }
   ],
   "source": [
    "len(urls)"
   ]
  },
  {
   "cell_type": "code",
   "execution_count": 21,
   "metadata": {},
   "outputs": [
    {
     "data": {
      "text/plain": [
       "['https://leetcode.com/problems/set-matrix-zeroes/',\n",
       " 'https://leetcode.com/problems/pascals-triangle/',\n",
       " 'https://leetcode.com/problems/next-permutation/',\n",
       " 'https://leetcode.com/problems/maximum-subarray/',\n",
       " 'https://leetcode.com/problems/sort-colors/']"
      ]
     },
     "execution_count": 21,
     "metadata": {},
     "output_type": "execute_result"
    }
   ],
   "source": [
    "urls[:5]"
   ]
  },
  {
   "cell_type": "code",
   "execution_count": 33,
   "metadata": {},
   "outputs": [
    {
     "name": "stdout",
     "output_type": "stream",
     "text": [
      "Loaded 87 previously parsed items.\n"
     ]
    },
    {
     "name": "stderr",
     "output_type": "stream",
     "text": [
      "Processing URLs:  47%|█████████████████████                        | 89/190 [00:01<01:14,  1.36it/s]"
     ]
    },
    {
     "name": "stdout",
     "output_type": "stream",
     "text": [
      "No slug found for url: https://www.lintcode.com/problem/645/\n"
     ]
    },
    {
     "name": "stderr",
     "output_type": "stream",
     "text": [
      "Processing URLs: 100%|████████████████████████████████████████████| 190/190 [01:40<00:00,  1.03it/s]\n"
     ]
    },
    {
     "data": {
      "text/plain": [
       "190"
      ]
     },
     "execution_count": 33,
     "metadata": {},
     "output_type": "execute_result"
    }
   ],
   "source": [
    "parsed_data = problems_parse4db(urls, \"striver-sde-progress.json\")\n",
    "len(parsed_data)"
   ]
  },
  {
   "cell_type": "code",
   "execution_count": 34,
   "metadata": {},
   "outputs": [
    {
     "data": {
      "text/plain": [
       "[{'id': '73LC',\n",
       "  'type': 'problem',\n",
       "  'title': 'Set Matrix Zeroes',\n",
       "  'platform': 'LC',\n",
       "  'href': 'https://leetcode.com/problems/set-matrix-zeroes/'},\n",
       " {'id': '118LC',\n",
       "  'type': 'problem',\n",
       "  'title': \"Pascal's Triangle\",\n",
       "  'platform': 'LC',\n",
       "  'href': 'https://leetcode.com/problems/pascals-triangle/'},\n",
       " {'id': '31LC',\n",
       "  'type': 'problem',\n",
       "  'title': 'Next Permutation',\n",
       "  'platform': 'LC',\n",
       "  'href': 'https://leetcode.com/problems/next-permutation/'}]"
      ]
     },
     "execution_count": 34,
     "metadata": {},
     "output_type": "execute_result"
    }
   ],
   "source": [
    "parsed_data[:3]"
   ]
  },
  {
   "cell_type": "code",
   "execution_count": 35,
   "metadata": {},
   "outputs": [],
   "source": [
    "problems_parsed = [{**parsed_data[i], \"title\": problems_urls_titles[i][\"title\"]} for i in range(len(parsed_data))]"
   ]
  },
  {
   "cell_type": "code",
   "execution_count": 36,
   "metadata": {},
   "outputs": [
    {
     "data": {
      "text/plain": [
       "190"
      ]
     },
     "execution_count": 36,
     "metadata": {},
     "output_type": "execute_result"
    }
   ],
   "source": [
    "len(problems_parsed)"
   ]
  },
  {
   "cell_type": "code",
   "execution_count": 37,
   "metadata": {},
   "outputs": [
    {
     "data": {
      "text/plain": [
       "{'id': '28LC',\n",
       " 'type': 'problem',\n",
       " 'title': 'KMP algo / LPS(pi) array',\n",
       " 'platform': 'LC',\n",
       " 'href': 'https://leetcode.com/problems/find-the-index-of-the-first-occurrence-in-a-string/'}"
      ]
     },
     "execution_count": 37,
     "metadata": {},
     "output_type": "execute_result"
    }
   ],
   "source": [
    "problems_parsed[97]"
   ]
  },
  {
   "cell_type": "code",
   "execution_count": 38,
   "metadata": {},
   "outputs": [
    {
     "data": {
      "text/plain": [
       "[{'id': '73LC',\n",
       "  'type': 'problem',\n",
       "  'title': 'Set Matrix Zeros',\n",
       "  'platform': 'LC',\n",
       "  'href': 'https://leetcode.com/problems/set-matrix-zeroes/'},\n",
       " {'id': '118LC',\n",
       "  'type': 'problem',\n",
       "  'title': \"Pascal's Triangle\",\n",
       "  'platform': 'LC',\n",
       "  'href': 'https://leetcode.com/problems/pascals-triangle/'},\n",
       " {'id': '31LC',\n",
       "  'type': 'problem',\n",
       "  'title': 'Next Permutation',\n",
       "  'platform': 'LC',\n",
       "  'href': 'https://leetcode.com/problems/next-permutation/'}]"
      ]
     },
     "execution_count": 38,
     "metadata": {},
     "output_type": "execute_result"
    }
   ],
   "source": [
    "problems_parsed[:3]"
   ]
  },
  {
   "cell_type": "code",
   "execution_count": 39,
   "metadata": {},
   "outputs": [
    {
     "name": "stderr",
     "output_type": "stream",
     "text": [
      "Processing URLs: 100%|███████████████████████████████████████████████| 1/1 [00:00<00:00, 187.00it/s]\n"
     ]
    }
   ],
   "source": [
    "tutorials_parsed = tutorials_parse4db(tutorials_urls_titles)"
   ]
  },
  {
   "cell_type": "code",
   "execution_count": 40,
   "metadata": {},
   "outputs": [
    {
     "data": {
      "text/plain": [
       "[{'id': '53efce83-b7d1-5934-9c6e-9d2c02c1523aGFG',\n",
       "  'type': 'tutorial',\n",
       "  'title': 'Greedy algorithm to find minimum number of coins',\n",
       "  'platform': 'GFG',\n",
       "  'href': 'https://www.geeksforgeeks.org/find-minimum-number-of-coins-that-make-a-change/'}]"
      ]
     },
     "execution_count": 40,
     "metadata": {},
     "output_type": "execute_result"
    }
   ],
   "source": [
    "tutorials_parsed"
   ]
  },
  {
   "cell_type": "code",
   "execution_count": 41,
   "metadata": {},
   "outputs": [],
   "source": [
    "parsed_merged = problems_parsed + tutorials_parsed"
   ]
  },
  {
   "cell_type": "code",
   "execution_count": 42,
   "metadata": {},
   "outputs": [
    {
     "data": {
      "text/plain": [
       "191"
      ]
     },
     "execution_count": 42,
     "metadata": {},
     "output_type": "execute_result"
    }
   ],
   "source": [
    "len(parsed_merged)"
   ]
  },
  {
   "cell_type": "code",
   "execution_count": 43,
   "metadata": {},
   "outputs": [
    {
     "data": {
      "text/plain": [
       "[{'id': '73LC',\n",
       "  'type': 'problem',\n",
       "  'title': 'Set Matrix Zeros',\n",
       "  'platform': 'LC',\n",
       "  'href': 'https://leetcode.com/problems/set-matrix-zeroes/'},\n",
       " {'id': '118LC',\n",
       "  'type': 'problem',\n",
       "  'title': \"Pascal's Triangle\",\n",
       "  'platform': 'LC',\n",
       "  'href': 'https://leetcode.com/problems/pascals-triangle/'},\n",
       " {'id': '31LC',\n",
       "  'type': 'problem',\n",
       "  'title': 'Next Permutation',\n",
       "  'platform': 'LC',\n",
       "  'href': 'https://leetcode.com/problems/next-permutation/'}]"
      ]
     },
     "execution_count": 43,
     "metadata": {},
     "output_type": "execute_result"
    }
   ],
   "source": [
    "parsed_merged[:3]"
   ]
  },
  {
   "cell_type": "code",
   "execution_count": 44,
   "metadata": {},
   "outputs": [],
   "source": [
    "os.makedirs(os.path.dirname(export_file), exist_ok=True)"
   ]
  },
  {
   "cell_type": "code",
   "execution_count": 45,
   "metadata": {},
   "outputs": [],
   "source": [
    "with open(export_file, \"w\", encoding=\"utf-8\") as f:\n",
    "    json.dump(parsed_merged, f, ensure_ascii=False, indent=4)"
   ]
  },
  {
   "cell_type": "code",
   "execution_count": null,
   "metadata": {},
   "outputs": [],
   "source": []
  }
 ],
 "metadata": {
  "kernelspec": {
   "display_name": ".venv",
   "language": "python",
   "name": "python3"
  },
  "language_info": {
   "codemirror_mode": {
    "name": "ipython",
    "version": 3
   },
   "file_extension": ".py",
   "mimetype": "text/x-python",
   "name": "python",
   "nbconvert_exporter": "python",
   "pygments_lexer": "ipython3",
   "version": "3.13.0"
  }
 },
 "nbformat": 4,
 "nbformat_minor": 2
}
