{
 "cells": [
  {
   "cell_type": "code",
   "execution_count": 1,
   "metadata": {},
   "outputs": [],
   "source": [
    "%run utils/devtools.py"
   ]
  },
  {
   "cell_type": "code",
   "execution_count": 2,
   "metadata": {},
   "outputs": [
    {
     "name": "stdout",
     "output_type": "stream",
     "text": [
      "✅ Reloaded package 'utils' and its submodules.\n"
     ]
    }
   ],
   "source": [
    "%reloadmypkg utils\n",
    "\n",
    "import pandas as pd\n",
    "from utils.url2platform import *\n",
    "from utils.standardise_url import *\n",
    "from utils.fetch_info import *\n",
    "from utils.dump_df_to_json import *"
   ]
  },
  {
   "cell_type": "code",
   "execution_count": 3,
   "metadata": {},
   "outputs": [],
   "source": [
    "sheet_path = \"../raw-data/striver/sde-sheet-response-data.json\"\n",
    "export_file = \"../cleaned-data/striver/sde.json\""
   ]
  },
  {
   "cell_type": "code",
   "execution_count": 4,
   "metadata": {},
   "outputs": [],
   "source": [
    "with open(sheet_path) as file:\n",
    "    raw = json.load(file)\n",
    "\n",
    "flattened_data = [\n",
    "    {\n",
    "        \"gfg\": topic[\"gfg_link\"],\n",
    "        \"c360\": topic[\"cs_link\"],\n",
    "        \"lc\": topic[\"lc_link\"],\n",
    "        \"original_title\": topic[\"title\"],\n",
    "        \"yt\": topic[\"yt_link\"],\n",
    "        \"post\": topic[\"post_link\"],\n",
    "        \"step_title\": topic[\"head_step_no\"]\n",
    "    }\n",
    "    for step in raw[\"sheetData\"]\n",
    "    for topic in step[\"topics\"]\n",
    "]\n",
    "\n",
    "df = pd.DataFrame(flattened_data)"
   ]
  },
  {
   "cell_type": "code",
   "execution_count": 5,
   "metadata": {},
   "outputs": [],
   "source": [
    "def get_best_url(row):\n",
    "    return (\n",
    "        row[\"lc\"] or\n",
    "        row[\"gfg\"] or\n",
    "        row[\"c360\"] or\n",
    "        row[\"yt\"] or\n",
    "        row[\"post\"]\n",
    "    )"
   ]
  },
  {
   "cell_type": "code",
   "execution_count": 6,
   "metadata": {},
   "outputs": [],
   "source": [
    "df[\"url\"] = df.apply(get_best_url, axis=1)"
   ]
  },
  {
   "cell_type": "code",
   "execution_count": 7,
   "metadata": {},
   "outputs": [],
   "source": [
    "df = df[[\"url\", \"original_title\", \"step_title\"]]"
   ]
  },
  {
   "cell_type": "code",
   "execution_count": 8,
   "metadata": {},
   "outputs": [
    {
     "data": {
      "text/plain": [
       "(191, 3)"
      ]
     },
     "execution_count": 8,
     "metadata": {},
     "output_type": "execute_result"
    }
   ],
   "source": [
    "df.shape"
   ]
  },
  {
   "cell_type": "code",
   "execution_count": 9,
   "metadata": {},
   "outputs": [
    {
     "data": {
      "text/plain": [
       "(0, 3)"
      ]
     },
     "execution_count": 9,
     "metadata": {},
     "output_type": "execute_result"
    }
   ],
   "source": [
    "missing_urls = df[df[\"url\"].isna()]\n",
    "missing_urls.shape"
   ]
  },
  {
   "cell_type": "code",
   "execution_count": 10,
   "metadata": {},
   "outputs": [
    {
     "data": {
      "text/plain": [
       "url               https://leetcode.com/accounts/login/?next=/pro...\n",
       "original_title                                The Celebrity Problem\n",
       "step_title                                  Stack and Queue Part-II\n",
       "Name: 90, dtype: object"
      ]
     },
     "execution_count": 10,
     "metadata": {},
     "output_type": "execute_result"
    }
   ],
   "source": [
    "df.loc[90]"
   ]
  },
  {
   "cell_type": "code",
   "execution_count": 11,
   "metadata": {},
   "outputs": [],
   "source": [
    "# Replace premium LeetCode problem with LintCode link\n",
    "df.at[90, \"url\"] = \"https://www.lintcode.com/problem/645/\""
   ]
  },
  {
   "cell_type": "code",
   "execution_count": 12,
   "metadata": {},
   "outputs": [
    {
     "data": {
      "text/plain": [
       "(2, 3)"
      ]
     },
     "execution_count": 12,
     "metadata": {},
     "output_type": "execute_result"
    }
   ],
   "source": [
    "redirect_urls = df[df[\"url\"].str.contains(\"implement-strstr\")]\n",
    "redirect_urls.shape"
   ]
  },
  {
   "cell_type": "code",
   "execution_count": 13,
   "metadata": {},
   "outputs": [],
   "source": [
    "# Fix the redirect urls\n",
    "df.at[97, \"url\"] = \"https://leetcode.com/problems/find-the-index-of-the-first-occurrence-in-a-string/\"\n",
    "df.at[98, \"url\"] = \"https://leetcode.com/problems/find-the-index-of-the-first-occurrence-in-a-string/\""
   ]
  },
  {
   "cell_type": "code",
   "execution_count": 14,
   "metadata": {},
   "outputs": [
    {
     "data": {
      "text/plain": [
       "(20, 3)"
      ]
     },
     "execution_count": 14,
     "metadata": {},
     "output_type": "execute_result"
    }
   ],
   "source": [
    "# Find the duplicates\n",
    "\n",
    "dupes_df = df[df.duplicated(subset=\"url\", keep=False)]\n",
    "dupes_df.shape"
   ]
  },
  {
   "cell_type": "code",
   "execution_count": 15,
   "metadata": {},
   "outputs": [
    {
     "name": "stdout",
     "output_type": "stream",
     "text": [
      "Total unique URLs with duplicates: 9\n"
     ]
    }
   ],
   "source": [
    "dupe_counts = dupes_df.groupby(\"url\").size()\n",
    "print(f\"Total unique URLs with duplicates: {len(dupe_counts)}\")"
   ]
  },
  {
   "cell_type": "code",
   "execution_count": 16,
   "metadata": {},
   "outputs": [
    {
     "name": "stdout",
     "output_type": "stream",
     "text": [
      "Filter list is empty. Trying to expand all 191 URLs.\n",
      "\n",
      "Processing batch 1/1\n",
      "Loaded 0 results from checkpoint\n",
      "Processing 191 pending URLs in this batch\n"
     ]
    },
    {
     "name": "stderr",
     "output_type": "stream",
     "text": [
      "Expanding URLs: 100%|██████████| 191/191 [00:02<00:00, 70.42it/s] "
     ]
    },
    {
     "name": "stdout",
     "output_type": "stream",
     "text": [
      "Progress saved to striver-sde-urls-expanded.json\n",
      "----------------------------------------------------------------------\n",
      "Progress saved to striver-sde-urls-expanded.json\n",
      "----------------------------------------------------------------------\n",
      "\n",
      "191/191 URLs expanded in 5.72 seconds.\n"
     ]
    },
    {
     "name": "stderr",
     "output_type": "stream",
     "text": [
      "\n"
     ]
    }
   ],
   "source": [
    "import nest_asyncio\n",
    "nest_asyncio.apply()\n",
    "\n",
    "standardised_df = await standardise_urls_async(df, \"striver-sde-urls-expanded.json\")"
   ]
  },
  {
   "cell_type": "code",
   "execution_count": 17,
   "metadata": {},
   "outputs": [
    {
     "data": {
      "text/plain": [
       "(191, 5)"
      ]
     },
     "execution_count": 17,
     "metadata": {},
     "output_type": "execute_result"
    }
   ],
   "source": [
    "standardised_df.shape"
   ]
  },
  {
   "cell_type": "code",
   "execution_count": 18,
   "metadata": {},
   "outputs": [],
   "source": [
    "# Adding type column\n",
    "standardised_df['type'] = standardised_df['expanded_stripped_url'].apply(\n",
    "    lambda url: \"problem\" if is_problem_url(url) else \"tutorial\"\n",
    ")"
   ]
  },
  {
   "cell_type": "code",
   "execution_count": 19,
   "metadata": {},
   "outputs": [
    {
     "data": {
      "text/plain": [
       "(191, 6)"
      ]
     },
     "execution_count": 19,
     "metadata": {},
     "output_type": "execute_result"
    }
   ],
   "source": [
    "standardised_df.shape"
   ]
  },
  {
   "cell_type": "code",
   "execution_count": 20,
   "metadata": {},
   "outputs": [
    {
     "data": {
      "text/html": [
       "<div>\n",
       "<style scoped>\n",
       "    .dataframe tbody tr th:only-of-type {\n",
       "        vertical-align: middle;\n",
       "    }\n",
       "\n",
       "    .dataframe tbody tr th {\n",
       "        vertical-align: top;\n",
       "    }\n",
       "\n",
       "    .dataframe thead th {\n",
       "        text-align: right;\n",
       "    }\n",
       "</style>\n",
       "<table border=\"1\" class=\"dataframe\">\n",
       "  <thead>\n",
       "    <tr style=\"text-align: right;\">\n",
       "      <th></th>\n",
       "      <th>url</th>\n",
       "      <th>original_title</th>\n",
       "      <th>step_title</th>\n",
       "      <th>expanded_url</th>\n",
       "      <th>expanded_stripped_url</th>\n",
       "      <th>type</th>\n",
       "    </tr>\n",
       "  </thead>\n",
       "  <tbody>\n",
       "    <tr>\n",
       "      <th>0</th>\n",
       "      <td>https://leetcode.com/problems/set-matrix-zeroes/</td>\n",
       "      <td>Set Matrix Zeros</td>\n",
       "      <td>Arrays</td>\n",
       "      <td>https://leetcode.com/problems/set-matrix-zeroes/</td>\n",
       "      <td>https://leetcode.com/problems/set-matrix-zeroes/</td>\n",
       "      <td>problem</td>\n",
       "    </tr>\n",
       "  </tbody>\n",
       "</table>\n",
       "</div>"
      ],
      "text/plain": [
       "                                                url    original_title  \\\n",
       "0  https://leetcode.com/problems/set-matrix-zeroes/  Set Matrix Zeros   \n",
       "\n",
       "  step_title                                      expanded_url  \\\n",
       "0     Arrays  https://leetcode.com/problems/set-matrix-zeroes/   \n",
       "\n",
       "                              expanded_stripped_url     type  \n",
       "0  https://leetcode.com/problems/set-matrix-zeroes/  problem  "
      ]
     },
     "execution_count": 20,
     "metadata": {},
     "output_type": "execute_result"
    }
   ],
   "source": [
    "standardised_df.head(1)"
   ]
  },
  {
   "cell_type": "code",
   "execution_count": 21,
   "metadata": {},
   "outputs": [
    {
     "name": "stdout",
     "output_type": "stream",
     "text": [
      "Found 191 URLs.\n",
      "\n",
      "Batch 1/1: items 0-190\n",
      "Loaded 0 from checkpoint\n",
      "Processing 191 URLs...\n"
     ]
    },
    {
     "name": "stderr",
     "output_type": "stream",
     "text": [
      "Fetching items: 100%|██████████| 191/191 [00:03<00:00, 63.27it/s] "
     ]
    },
    {
     "name": "stdout",
     "output_type": "stream",
     "text": [
      "Saved progress (191 items) to striver-sde-info-added.json\n",
      "------------------------------\n",
      "Saved progress (191 items) to striver-sde-info-added.json\n",
      "------------------------------\n",
      "\n",
      "Fetched 191/191 items in 3.1s.\n"
     ]
    },
    {
     "name": "stderr",
     "output_type": "stream",
     "text": [
      "\n"
     ]
    }
   ],
   "source": [
    "# Adding id_base, id, title, platform columns\n",
    "import nest_asyncio\n",
    "nest_asyncio.apply()\n",
    "\n",
    "final_df = await fetch_info(standardised_df, \"striver-sde-info-added.json\")"
   ]
  },
  {
   "cell_type": "code",
   "execution_count": 22,
   "metadata": {},
   "outputs": [
    {
     "data": {
      "text/plain": [
       "(191, 10)"
      ]
     },
     "execution_count": 22,
     "metadata": {},
     "output_type": "execute_result"
    }
   ],
   "source": [
    "final_df.shape"
   ]
  },
  {
   "cell_type": "code",
   "execution_count": 23,
   "metadata": {},
   "outputs": [],
   "source": [
    "dump_df_to_json(final_df, export_file)"
   ]
  },
  {
   "cell_type": "code",
   "execution_count": null,
   "metadata": {},
   "outputs": [],
   "source": []
  }
 ],
 "metadata": {
  "kernelspec": {
   "display_name": ".venv",
   "language": "python",
   "name": "python3"
  },
  "language_info": {
   "codemirror_mode": {
    "name": "ipython",
    "version": 3
   },
   "file_extension": ".py",
   "mimetype": "text/x-python",
   "name": "python",
   "nbconvert_exporter": "python",
   "pygments_lexer": "ipython3",
   "version": "3.13.0"
  }
 },
 "nbformat": 4,
 "nbformat_minor": 2
}
