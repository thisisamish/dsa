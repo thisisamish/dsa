{
 "cells": [
  {
   "cell_type": "code",
   "execution_count": 1,
   "metadata": {},
   "outputs": [],
   "source": [
    "%run utils/devtools.py"
   ]
  },
  {
   "cell_type": "code",
   "execution_count": 75,
   "metadata": {},
   "outputs": [
    {
     "name": "stdout",
     "output_type": "stream",
     "text": [
      "✅ Reloaded package 'utils' and its submodules.\n"
     ]
    }
   ],
   "source": [
    "%reloadmypkg utils\n",
    "\n",
    "from openpyxl import load_workbook\n",
    "import os\n",
    "import json\n",
    "from tqdm import tqdm\n",
    "from utils.standardise_url import expand_url, strip_query_params\n",
    "from utils.enums import ProblemPlatform\n",
    "from utils.url2platform import tutorial_url2platform, problem_url2platform\n",
    "from utils.parse4db import problems_parse4db, tutorials_parse4db"
   ]
  },
  {
   "cell_type": "code",
   "execution_count": 3,
   "metadata": {},
   "outputs": [],
   "source": [
    "file_path = \"../raw-data/love-babbar/450.xlsx\"\n",
    "export_file = \"../cleaned-data/lb/450.json\""
   ]
  },
  {
   "cell_type": "code",
   "execution_count": 82,
   "metadata": {},
   "outputs": [],
   "source": [
    "problems_urls_titles = []\n",
    "tutorials_urls_titles = []\n",
    "\n",
    "wb = load_workbook(file_path)\n",
    "ws = wb.active\n",
    "for row in ws.iter_rows(min_row=6):\n",
    "    cell = row[1]\n",
    "    if cell.hyperlink:\n",
    "        problems_urls_titles.append({\"url\": cell.hyperlink.target, \"title\": cell.value})\n",
    "    elif cell.value is not None and cell.value != '<->' and isinstance(cell.value, str):\n",
    "        tutorials_urls_titles.append({\"title\": cell.value, \"url\": None})"
   ]
  },
  {
   "cell_type": "code",
   "execution_count": 83,
   "metadata": {},
   "outputs": [
    {
     "name": "stdout",
     "output_type": "stream",
     "text": [
      "445\n",
      "[{'url': 'https://www.geeksforgeeks.org/write-a-program-to-reverse-an-array-or-string/', 'title': 'Reverse the array'}, {'url': 'https://www.geeksforgeeks.org/maximum-and-minimum-in-an-array/', 'title': 'Find the maximum and minimum element in an array'}, {'url': 'https://practice.geeksforgeeks.org/problems/kth-smallest-element/0', 'title': 'Find the \"Kth\" max and min element of an array '}]\n"
     ]
    }
   ],
   "source": [
    "print(len(problems_urls_titles))\n",
    "print(problems_urls_titles[:3])"
   ]
  },
  {
   "cell_type": "code",
   "execution_count": 84,
   "metadata": {},
   "outputs": [
    {
     "name": "stdout",
     "output_type": "stream",
     "text": [
      "3\n"
     ]
    }
   ],
   "source": [
    "print(len(tutorials_urls_titles))"
   ]
  },
  {
   "cell_type": "code",
   "execution_count": 85,
   "metadata": {},
   "outputs": [
    {
     "name": "stdout",
     "output_type": "stream",
     "text": [
      "0: {'title': 'Why strings are immutable in Java?', 'url': None}\n",
      "1: {'title': 'Can we reverse a linked list in less than O(n) ?', 'url': None}\n",
      "2: {'title': 'Why Quicksort is preferred for. Arrays and Merge Sort for LinkedLists ?', 'url': None}\n"
     ]
    }
   ],
   "source": [
    "print(f\"{0}: {tutorials_urls_titles[0]}\")\n",
    "print(f\"{1}: {tutorials_urls_titles[1]}\")\n",
    "print(f\"{2}: {tutorials_urls_titles[2]}\")"
   ]
  },
  {
   "cell_type": "code",
   "execution_count": 86,
   "metadata": {},
   "outputs": [],
   "source": [
    "tutorials_urls_titles[0][\"url\"] = \"https://www.scaler.com/topics/why-string-is-immutable-in-java/\"\n",
    "tutorials_urls_titles[1][\"url\"] = \"https://www.naukri.com/code360/library/is-it-possible-to-reverse-a-linked-list-in-less-than-o-n\"\n",
    "tutorials_urls_titles[2][\"url\"] = \"https://www.naukri.com/code360/library/why-is-quick-sort-preferred-for-arrays-and-merge-sort-for-linked-lists\"\n",
    "tutorials_urls_titles[2][\"title\"] = \"Why is quick sort preferred for arrays and merge sort for linked lists?\""
   ]
  },
  {
   "cell_type": "code",
   "execution_count": 87,
   "metadata": {},
   "outputs": [
    {
     "data": {
      "text/plain": [
       "[{'title': 'Why strings are immutable in Java?',\n",
       "  'url': 'https://www.scaler.com/topics/why-string-is-immutable-in-java/'},\n",
       " {'title': 'Can we reverse a linked list in less than O(n) ?',\n",
       "  'url': 'https://www.naukri.com/code360/library/is-it-possible-to-reverse-a-linked-list-in-less-than-o-n'},\n",
       " {'title': 'Why is quick sort preferred for arrays and merge sort for linked lists?',\n",
       "  'url': 'https://www.naukri.com/code360/library/why-is-quick-sort-preferred-for-arrays-and-merge-sort-for-linked-lists'}]"
      ]
     },
     "execution_count": 87,
     "metadata": {},
     "output_type": "execute_result"
    }
   ],
   "source": [
    "tutorials_urls_titles"
   ]
  },
  {
   "cell_type": "code",
   "execution_count": 88,
   "metadata": {},
   "outputs": [
    {
     "name": "stdout",
     "output_type": "stream",
     "text": [
      "Duplicate URL: https://practice.geeksforgeeks.org/problems/kadanes-algorithm/0\n",
      "Indexes: [7, 12, 409]\n",
      "7: {'url': 'https://practice.geeksforgeeks.org/problems/kadanes-algorithm/0', 'title': 'find Largest sum contiguous Subarray [V. IMP]'}\n",
      "12: {'url': 'https://practice.geeksforgeeks.org/problems/kadanes-algorithm/0', 'title': \"Kadane's Algo [V.V.V.V.V IMP]\"}\n",
      "409: {'url': 'https://practice.geeksforgeeks.org/problems/kadanes-algorithm/0', 'title': 'LargestSum Contiguous Subarray [V>V>V>V IMP ]'}\n",
      "--------------------------------------------------------------------------------------------------------------------------------------------\n",
      "Duplicate URL: https://practice.geeksforgeeks.org/problems/minimum-number-of-jumps/0\n",
      "Indexes: [9, 403]\n",
      "9: {'url': 'https://practice.geeksforgeeks.org/problems/minimum-number-of-jumps/0', 'title': 'Minimum no. of Jumps to reach end of an array'}\n",
      "403: {'url': 'https://practice.geeksforgeeks.org/problems/minimum-number-of-jumps/0', 'title': 'Minimum number of jumps to reach end'}\n",
      "--------------------------------------------------------------------------------------------------------------------------------------------\n",
      "Duplicate URL: https://practice.geeksforgeeks.org/problems/merge-two-sorted-arrays5135/1\n",
      "Indexes: [11, 101]\n",
      "11: {'url': 'https://practice.geeksforgeeks.org/problems/merge-two-sorted-arrays5135/1', 'title': 'Merge 2 sorted arrays without using Extra space.'}\n",
      "101: {'url': 'https://practice.geeksforgeeks.org/problems/merge-two-sorted-arrays5135/1', 'title': 'merge 2 sorted arrays'}\n",
      "--------------------------------------------------------------------------------------------------------------------------------------------\n",
      "Duplicate URL: https://practice.geeksforgeeks.org/problems/inversion-of-array/0\n",
      "Indexes: [15, 121]\n",
      "15: {'url': 'https://practice.geeksforgeeks.org/problems/inversion-of-array/0', 'title': 'Count Inversion'}\n",
      "121: {'url': 'https://practice.geeksforgeeks.org/problems/inversion-of-array/0', 'title': 'Findthe inversion count'}\n",
      "--------------------------------------------------------------------------------------------------------------------------------------------\n",
      "Duplicate URL: https://www.geeksforgeeks.org/maximum-profit-by-buying-and-selling-a-share-at-most-twice/\n",
      "Indexes: [25, 422]\n",
      "25: {'url': 'https://www.geeksforgeeks.org/maximum-profit-by-buying-and-selling-a-share-at-most-twice/', 'title': 'Maximum profit by buying and selling a share atmost twice'}\n",
      "422: {'url': 'https://www.geeksforgeeks.org/maximum-profit-by-buying-and-selling-a-share-at-most-twice/', 'title': 'Maximum profit by buying and selling a share at most twice [ IMP ]'}\n",
      "--------------------------------------------------------------------------------------------------------------------------------------------\n",
      "Duplicate URL: https://practice.geeksforgeeks.org/problems/chocolate-distribution-problem/0\n",
      "Indexes: [29, 238]\n",
      "29: {'url': 'https://practice.geeksforgeeks.org/problems/chocolate-distribution-problem/0', 'title': 'Chocolate Distribution problem'}\n",
      "238: {'url': 'https://practice.geeksforgeeks.org/problems/chocolate-distribution-problem/0', 'title': 'Chocolate Distribution Problem'}\n",
      "--------------------------------------------------------------------------------------------------------------------------------------------\n",
      "Duplicate URL: https://practice.geeksforgeeks.org/problems/longest-repeating-subsequence/0\n",
      "Indexes: [53, 389]\n",
      "53: {'url': 'https://practice.geeksforgeeks.org/problems/longest-repeating-subsequence/0', 'title': 'Find Longest Recurring Subsequence in String'}\n",
      "389: {'url': 'https://practice.geeksforgeeks.org/problems/longest-repeating-subsequence/0', 'title': 'Longest Repeated Subsequence'}\n",
      "--------------------------------------------------------------------------------------------------------------------------------------------\n",
      "Duplicate URL: https://practice.geeksforgeeks.org/problems/permutations-of-a-given-string/0\n",
      "Indexes: [55, 263]\n",
      "55: {'url': 'https://practice.geeksforgeeks.org/problems/permutations-of-a-given-string/0', 'title': 'Print all the permutations of the given string'}\n",
      "263: {'url': 'https://practice.geeksforgeeks.org/problems/permutations-of-a-given-string/0', 'title': 'Print all permutations of a string '}\n",
      "--------------------------------------------------------------------------------------------------------------------------------------------\n",
      "Duplicate URL: https://practice.geeksforgeeks.org/problems/word-wrap/0\n",
      "Indexes: [57, 426]\n",
      "57: {'url': 'https://practice.geeksforgeeks.org/problems/word-wrap/0', 'title': 'Word Wrap Problem [VERY IMP].'}\n",
      "426: {'url': 'https://practice.geeksforgeeks.org/problems/word-wrap/0', 'title': 'Word Wrap Problem'}\n",
      "--------------------------------------------------------------------------------------------------------------------------------------------\n",
      "Duplicate URL: https://practice.geeksforgeeks.org/problems/edit-distance3702/1\n",
      "Indexes: [58, 381]\n",
      "58: {'url': 'https://practice.geeksforgeeks.org/problems/edit-distance3702/1', 'title': 'EDIT Distance [Very Imp]'}\n",
      "381: {'url': 'https://practice.geeksforgeeks.org/problems/edit-distance3702/1', 'title': 'Edit Distance'}\n",
      "--------------------------------------------------------------------------------------------------------------------------------------------\n",
      "Duplicate URL: https://practice.geeksforgeeks.org/problems/parenthesis-checker/0\n",
      "Indexes: [60, 274]\n",
      "60: {'url': 'https://practice.geeksforgeeks.org/problems/parenthesis-checker/0', 'title': 'Balanced Parenthesis problem.[Imp]'}\n",
      "274: {'url': 'https://practice.geeksforgeeks.org/problems/parenthesis-checker/0', 'title': 'Check the expression has valid or Balanced parenthesis or not.'}\n",
      "--------------------------------------------------------------------------------------------------------------------------------------------\n",
      "Duplicate URL: https://practice.geeksforgeeks.org/problems/word-break/0\n",
      "Indexes: [61, 412]\n",
      "61: {'url': 'https://practice.geeksforgeeks.org/problems/word-break/0', 'title': 'Word break Problem[ Very Imp]'}\n",
      "412: {'url': 'https://practice.geeksforgeeks.org/problems/word-break/0', 'title': 'Word Break Problem'}\n",
      "--------------------------------------------------------------------------------------------------------------------------------------------\n",
      "Duplicate URL: https://practice.geeksforgeeks.org/problems/count-palindromic-subsequences/1\n",
      "Indexes: [66, 416]\n",
      "66: {'url': 'https://practice.geeksforgeeks.org/problems/count-palindromic-subsequences/1', 'title': 'Count All Palindromic Subsequence in a given String.'}\n",
      "416: {'url': 'https://practice.geeksforgeeks.org/problems/count-palindromic-subsequences/1', 'title': 'Count All Palindromic Subsequence in a given String'}\n",
      "--------------------------------------------------------------------------------------------------------------------------------------------\n",
      "Duplicate URL: https://practice.geeksforgeeks.org/problems/longest-common-subsequence/0\n",
      "Indexes: [75, 388]\n",
      "75: {'url': 'https://practice.geeksforgeeks.org/problems/longest-common-subsequence/0', 'title': 'Find the longest common subsequence between two strings.'}\n",
      "388: {'url': 'https://practice.geeksforgeeks.org/problems/longest-common-subsequence/0', 'title': 'Longest Common Subsequence'}\n",
      "--------------------------------------------------------------------------------------------------------------------------------------------\n",
      "Duplicate URL: https://practice.geeksforgeeks.org/problems/rearrange-characters/0\n",
      "Indexes: [78, 248, 323]\n",
      "78: {'url': 'https://practice.geeksforgeeks.org/problems/rearrange-characters/0', 'title': 'Rearrange characters in a string such that no two adjacent are same'}\n",
      "248: {'url': 'https://practice.geeksforgeeks.org/problems/rearrange-characters/0', 'title': 'Rearrange characters in a string such that no two adjacent are same'}\n",
      "323: {'url': 'https://practice.geeksforgeeks.org/problems/rearrange-characters/0', 'title': 'Rearrange characters in a string such that no two adjacent are same.'}\n",
      "--------------------------------------------------------------------------------------------------------------------------------------------\n",
      "Duplicate URL: https://practice.geeksforgeeks.org/problems/k-anagrams-1/0\n",
      "Indexes: [80, 372]\n",
      "80: {'url': 'https://practice.geeksforgeeks.org/problems/k-anagrams-1/0', 'title': 'Given a sequence of words, print all anagrams together'}\n",
      "372: {'url': 'https://practice.geeksforgeeks.org/problems/k-anagrams-1/0', 'title': 'Given a sequence of words, print all anagrams together'}\n",
      "--------------------------------------------------------------------------------------------------------------------------------------------\n",
      "Duplicate URL: https://practice.geeksforgeeks.org/problems/allocate-minimum-number-of-pages/0\n",
      "Indexes: [112, 117]\n",
      "112: {'url': 'https://practice.geeksforgeeks.org/problems/allocate-minimum-number-of-pages/0', 'title': 'Book Allocation Problem'}\n",
      "117: {'url': 'https://practice.geeksforgeeks.org/problems/allocate-minimum-number-of-pages/0', 'title': 'Painters Partition Problem:'}\n",
      "--------------------------------------------------------------------------------------------------------------------------------------------\n",
      "Duplicate URL: https://practice.geeksforgeeks.org/problems/merge-k-sorted-linked-lists/1\n",
      "Indexes: [152, 316]\n",
      "152: {'url': 'https://practice.geeksforgeeks.org/problems/merge-k-sorted-linked-lists/1', 'title': 'Merge K sorted Linked list'}\n",
      "316: {'url': 'https://practice.geeksforgeeks.org/problems/merge-k-sorted-linked-lists/1', 'title': 'Merge “K” Sorted Linked Lists [V.IMP]'}\n",
      "--------------------------------------------------------------------------------------------------------------------------------------------\n",
      "Duplicate URL: https://practice.geeksforgeeks.org/problems/first-non-repeating-character-in-a-stream/0\n",
      "Indexes: [157, 305]\n",
      "157: {'url': 'https://practice.geeksforgeeks.org/problems/first-non-repeating-character-in-a-stream/0', 'title': 'Find the first non-repeating character from a stream of characters'}\n",
      "305: {'url': 'https://practice.geeksforgeeks.org/problems/first-non-repeating-character-in-a-stream/0', 'title': 'Queue based approach or first non-repeating character in a stream.'}\n",
      "--------------------------------------------------------------------------------------------------------------------------------------------\n",
      "Duplicate URL: https://www.geeksforgeeks.org/minimize-cash-flow-among-given-set-friends-borrowed-money/\n",
      "Indexes: [225, 367]\n",
      "225: {'url': 'https://www.geeksforgeeks.org/minimize-cash-flow-among-given-set-friends-borrowed-money/', 'title': 'Minimize Cash Flow among a given set of friends who have borrowed money from each other'}\n",
      "367: {'url': 'https://www.geeksforgeeks.org/minimize-cash-flow-among-given-set-friends-borrowed-money/', 'title': 'Minimise the cashflow among a given set of friends who have borrowed money from each other'}\n",
      "--------------------------------------------------------------------------------------------------------------------------------------------\n",
      "Duplicate URL: https://practice.geeksforgeeks.org/problems/minimum-cost-of-ropes/0\n",
      "Indexes: [246, 320]\n",
      "246: {'url': 'https://practice.geeksforgeeks.org/problems/minimum-cost-of-ropes/0', 'title': 'Minimum Cost of ropes'}\n",
      "320: {'url': 'https://practice.geeksforgeeks.org/problems/minimum-cost-of-ropes/0', 'title': 'Connect “n” ropes with minimum cost'}\n",
      "--------------------------------------------------------------------------------------------------------------------------------------------\n",
      "Duplicate URL: https://practice.geeksforgeeks.org/problems/rat-in-a-maze-problem/1\n",
      "Indexes: [250, 330]\n",
      "250: {'url': 'https://practice.geeksforgeeks.org/problems/rat-in-a-maze-problem/1', 'title': 'Rat in a maze Problem'}\n",
      "330: {'url': 'https://practice.geeksforgeeks.org/problems/rat-in-a-maze-problem/1', 'title': 'Search in a Maze'}\n",
      "--------------------------------------------------------------------------------------------------------------------------------------------\n",
      "Duplicate URL: https://practice.geeksforgeeks.org/problems/m-coloring-problem/0\n",
      "Indexes: [255, 361]\n",
      "255: {'url': 'https://practice.geeksforgeeks.org/problems/m-coloring-problem/0', 'title': 'm Coloring Problem'}\n",
      "361: {'url': 'https://practice.geeksforgeeks.org/problems/m-coloring-problem/0', 'title': 'M-ColouringProblem'}\n",
      "--------------------------------------------------------------------------------------------------------------------------------------------\n",
      "Duplicate URL: https://practice.geeksforgeeks.org/problems/subset-sum-problem2014/1\n",
      "Indexes: [257, 382, 414]\n",
      "257: {'url': 'https://practice.geeksforgeeks.org/problems/subset-sum-problem2014/1', 'title': 'Subset Sum Problem'}\n",
      "382: {'url': 'https://practice.geeksforgeeks.org/problems/subset-sum-problem2014/1', 'title': 'Subset Sum Problem'}\n",
      "414: {'url': 'https://practice.geeksforgeeks.org/problems/subset-sum-problem2014/1', 'title': 'Partition problem'}\n",
      "--------------------------------------------------------------------------------------------------------------------------------------------\n",
      "Duplicate URL: https://www.geeksforgeeks.org/find-if-there-is-a-path-of-more-than-k-length-from-a-source/\n",
      "Indexes: [264, 360]\n",
      "264: {'url': 'https://www.geeksforgeeks.org/find-if-there-is-a-path-of-more-than-k-length-from-a-source/', 'title': 'Find if there is a path of more than k length from a source'}\n",
      "360: {'url': 'https://www.geeksforgeeks.org/find-if-there-is-a-path-of-more-than-k-length-from-a-source/', 'title': 'Find if there is a path of more thank length from a source'}\n",
      "--------------------------------------------------------------------------------------------------------------------------------------------\n",
      "Duplicate URL: https://www.geeksforgeeks.org/water-jug-problem-using-bfs/\n",
      "Indexes: [358, 359]\n",
      "358: {'url': 'https://www.geeksforgeeks.org/water-jug-problem-using-bfs/', 'title': 'Water Jug problem using BFS'}\n",
      "359: {'url': 'https://www.geeksforgeeks.org/water-jug-problem-using-bfs/', 'title': 'Water Jug problem using BFS'}\n",
      "--------------------------------------------------------------------------------------------------------------------------------------------\n"
     ]
    }
   ],
   "source": [
    "# Check the links which are duplicated\n",
    "\n",
    "from collections import defaultdict\n",
    "\n",
    "url_to_indexes = defaultdict(list)\n",
    "\n",
    "for idx, item in enumerate(problems_urls_titles):\n",
    "    url = item.get(\"url\")\n",
    "    if url:\n",
    "        url_to_indexes[url].append(idx)\n",
    "\n",
    "for url, indexes in url_to_indexes.items():\n",
    "    if len(indexes) > 1:\n",
    "        print(f\"Duplicate URL: {url}\")\n",
    "        print(f\"Indexes: {indexes}\")\n",
    "        for index in indexes:\n",
    "            print(f\"{index}: {problems_urls_titles[index]}\")\n",
    "        print(\"--------------------------------------------------------------------------------------------------------------------------------------------\")"
   ]
  },
  {
   "cell_type": "code",
   "execution_count": 89,
   "metadata": {},
   "outputs": [
    {
     "data": {
      "text/plain": [
       "[{'url': 'https://practice.geeksforgeeks.org/problems/merge-two-sorted-arrays5135/1',\n",
       "  'title': 'Merge 2 sorted arrays without using Extra space.'},\n",
       " {'url': 'https://practice.geeksforgeeks.org/problems/rearrange-characters/0',\n",
       "  'title': 'Rearrange characters in a string such that no two adjacent are same'},\n",
       " {'url': 'https://practice.geeksforgeeks.org/problems/overlapping-intervals/0',\n",
       "  'title': 'Merge Overlapping Intervals'},\n",
       " {'url': 'https://www.hackerearth.com/practice/algorithms/searching/binary-search/practice-problems/algorithm/bishu-and-soldiers/',\n",
       "  'title': 'Bishu and Soldiers'},\n",
       " {'url': 'http://theoryofprogramming.com/2017/12/16/find-pivot-element-sorted-rotated-array/',\n",
       "  'title': 'Find pivot element in a sorted array'},\n",
       " {'url': 'https://www.baeldung.com/java-sorting-arrays-with-repeated-entries',\n",
       "  'title': 'Partitioning and Sorting Arrays with Many Repeated Entries'},\n",
       " {'url': 'https://stackoverflow.com/questions/45130465/inserting-at-the-end-of-stack',\n",
       "  'title': 'Implement a method to insert an element at its bottom without using any other data structure.'},\n",
       " {'url': 'https://www.tutorialspoint.com/javaexamples/data_stack.htm',\n",
       "  'title': ' Implement Stack from Scratch'},\n",
       " {'url': 'https://www.techiedelight.com/inorder-tree-traversal-iterative-recursive/',\n",
       "  'title': 'Inorder Traversal of a tree both using recursion and Iteration'},\n",
       " {'url': 'https://www.techiedelight.com/preorder-tree-traversal-iterative-recursive/',\n",
       "  'title': 'Preorder Traversal of a tree both using recursion and Iteration'},\n",
       " {'url': 'https://www.techiedelight.com/postorder-tree-traversal-iterative-recursive/',\n",
       "  'title': 'Postorder Traversal of a tree both using recursion and Iteration'},\n",
       " {'url': 'https://1drv.ms/t/s!AqTOHFO77CqEiRua06v1PATyiFg5',\n",
       "  'title': 'Create a Graph, print it'}]"
      ]
     },
     "execution_count": 89,
     "metadata": {},
     "output_type": "execute_result"
    }
   ],
   "source": [
    "# Links which had issues later in the program\n",
    "\n",
    "indexes = [11, 78, 284, 106, 109, 123, 281, 269, 163, 164, 165, 325]\n",
    "duped = []\n",
    "for index in indexes:\n",
    "    duped.append(problems_urls_titles[index])\n",
    "duped"
   ]
  },
  {
   "cell_type": "code",
   "execution_count": 90,
   "metadata": {},
   "outputs": [
    {
     "data": {
      "text/plain": [
       "12"
      ]
     },
     "execution_count": 90,
     "metadata": {},
     "output_type": "execute_result"
    }
   ],
   "source": [
    "len(duped)"
   ]
  },
  {
   "cell_type": "code",
   "execution_count": 93,
   "metadata": {},
   "outputs": [
    {
     "name": "stdout",
     "output_type": "stream",
     "text": [
      "Deleted 29 duplicate problems.\n",
      "Previous number of total elements in the sheet was 448.\n",
      "Current number of total elements in the sheet is 419.\n"
     ]
    }
   ],
   "source": [
    "# Dedupe\n",
    "\n",
    "seen = set()\n",
    "unique_problems = []\n",
    "for item in problems_urls_titles:\n",
    "    url = item.get(\"url\")\n",
    "    if url not in seen:\n",
    "        seen.add(url)\n",
    "        unique_problems.append(item)\n",
    "print(f\"Deleted {len(problems_urls_titles) - len(unique_problems)} duplicate problems.\")\n",
    "print(f\"Previous number of total elements in the sheet was {len(problems_urls_titles) + len(tutorials_urls_titles)}.\")\n",
    "print(f\"Current number of total elements in the sheet is {len(unique_problems) + len(tutorials_urls_titles)}.\")"
   ]
  },
  {
   "cell_type": "code",
   "execution_count": 94,
   "metadata": {},
   "outputs": [],
   "source": [
    "problems_urls_titles = unique_problems"
   ]
  },
  {
   "cell_type": "code",
   "execution_count": 95,
   "metadata": {},
   "outputs": [
    {
     "data": {
      "text/plain": [
       "416"
      ]
     },
     "execution_count": 95,
     "metadata": {},
     "output_type": "execute_result"
    }
   ],
   "source": [
    "len(problems_urls_titles)"
   ]
  },
  {
   "cell_type": "code",
   "execution_count": 96,
   "metadata": {},
   "outputs": [
    {
     "name": "stdout",
     "output_type": "stream",
     "text": [
      "11: {'url': 'https://practice.geeksforgeeks.org/problems/merge-two-sorted-arrays5135/1', 'title': 'Merge 2 sorted arrays without using Extra space.'}\n",
      "77: {'url': 'https://practice.geeksforgeeks.org/problems/rearrange-characters/0', 'title': 'Rearrange characters in a string such that no two adjacent are same'}\n",
      "104: {'url': 'https://www.hackerearth.com/practice/algorithms/searching/binary-search/practice-problems/algorithm/bishu-and-soldiers/', 'title': 'Bishu and Soldiers'}\n",
      "107: {'url': 'http://theoryofprogramming.com/2017/12/16/find-pivot-element-sorted-rotated-array/', 'title': 'Find pivot element in a sorted array'}\n",
      "119: {'url': 'https://www.baeldung.com/java-sorting-arrays-with-repeated-entries', 'title': 'Partitioning and Sorting Arrays with Many Repeated Entries'}\n",
      "159: {'url': 'https://www.techiedelight.com/inorder-tree-traversal-iterative-recursive/', 'title': 'Inorder Traversal of a tree both using recursion and Iteration'}\n",
      "160: {'url': 'https://www.techiedelight.com/preorder-tree-traversal-iterative-recursive/', 'title': 'Preorder Traversal of a tree both using recursion and Iteration'}\n",
      "161: {'url': 'https://www.techiedelight.com/postorder-tree-traversal-iterative-recursive/', 'title': 'Postorder Traversal of a tree both using recursion and Iteration'}\n",
      "262: {'url': 'https://www.tutorialspoint.com/javaexamples/data_stack.htm', 'title': ' Implement Stack from Scratch'}\n",
      "273: {'url': 'https://stackoverflow.com/questions/45130465/inserting-at-the-end-of-stack', 'title': 'Implement a method to insert an element at its bottom without using any other data structure.'}\n",
      "276: {'url': 'https://practice.geeksforgeeks.org/problems/overlapping-intervals/0', 'title': 'Merge Overlapping Intervals'}\n",
      "313: {'url': 'https://1drv.ms/t/s!AqTOHFO77CqEiRua06v1PATyiFg5', 'title': 'Create a Graph, print it'}\n"
     ]
    }
   ],
   "source": [
    "for index, item in enumerate(problems_urls_titles):\n",
    "    url = item['url']\n",
    "    for d in duped:\n",
    "        if d['url'] == url:\n",
    "            print(f\"{index}: {item}\")"
   ]
  },
  {
   "cell_type": "code",
   "execution_count": 97,
   "metadata": {},
   "outputs": [],
   "source": [
    "# Fix broken links in the sheet\n",
    "problems_urls_titles[11][\"url\"] = \"https://www.geeksforgeeks.org/problems/merge-two-sorted-arrays-1587115620/0\"\n",
    "problems_urls_titles[77][\"url\"] = \"https://www.geeksforgeeks.org/problems/rearrange-characters4649/1\"\n",
    "problems_urls_titles[276][\"url\"] = \"https://www.geeksforgeeks.org/problems/overlapping-intervals--170633/0\"\n",
    "problems_urls_titles[104][\"url\"] = \"https://www.hackerearth.com/problem/algorithm/bishu-and-soldiers-227/\"\n",
    "\n",
    "# Replacing links with better links\n",
    "problems_urls_titles[107][\"url\"] = \"https://leetcode.com/problems/search-in-rotated-sorted-array/\"\n",
    "problems_urls_titles[119][\"url\"] = \"https://www.naukri.com/code360/problems/partitioning-and-sorting-arrays-with-many-repeated-entries_1170515\"\n",
    "problems_urls_titles[273][\"url\"] = \"https://www.naukri.com/code360/problems/insert-an-element-at-its-bottom-in-a-given-stack_1171166\"\n",
    "problems_urls_titles[262][\"url\"] = \"https://www.programiz.com/dsa/stack\"\n",
    "problems_urls_titles[159][\"url\"] = \"https://leetcode.com/problems/binary-tree-inorder-traversal/\"\n",
    "problems_urls_titles[160][\"url\"] = \"https://leetcode.com/problems/binary-tree-preorder-traversal/\"\n",
    "problems_urls_titles[161][\"url\"] = \"https://leetcode.com/problems/binary-tree-postorder-traversal/\"\n",
    "problems_urls_titles[313][\"url\"] = \"https://www.naukri.com/code360/problems/create-a-graph-and-print-it_1214551\""
   ]
  },
  {
   "cell_type": "code",
   "execution_count": 98,
   "metadata": {},
   "outputs": [
    {
     "name": "stderr",
     "output_type": "stream",
     "text": [
      "Expanding LB450 URLS: 100%|████████████████████████████████████| 416/416 [00:00<00:00, 25941.58it/s]"
     ]
    },
    {
     "name": "stdout",
     "output_type": "stream",
     "text": [
      "Unknown platform for url: https://www.geeksforgeeks.org/write-a-program-to-reverse-an-array-or-string/\n",
      "Unknown platform for url: https://www.geeksforgeeks.org/maximum-and-minimum-in-an-array/\n",
      "Unknown platform for url: https://www.geeksforgeeks.org/move-negative-numbers-beginning-positive-end-constant-extra-space/\n",
      "Unknown platform for url: https://www.geeksforgeeks.org/rearrange-array-alternating-positive-negative-items-o1-extra-space/\n",
      "Unknown platform for url: https://www.geeksforgeeks.org/given-an-array-of-of-size-n-finds-all-the-elements-that-appear-more-than-nk-times/\n",
      "Unknown platform for url: https://www.geeksforgeeks.org/maximum-profit-by-buying-and-selling-a-share-at-most-twice/\n",
      "Unknown platform for url: https://www.geeksforgeeks.org/median-of-two-sorted-arrays-of-different-sizes/\n",
      "Unknown platform for url: https://www.geeksforgeeks.org/find-a-specific-pair-in-matrix/\n",
      "Unknown platform for url: https://www.geeksforgeeks.org/rotate-a-matrix-by-90-degree-in-clockwise-direction-without-using-any-extra-space/\n",
      "Unknown platform for url: https://www.geeksforgeeks.org/common-elements-in-all-rows-of-a-given-matrix/\n",
      "Unknown platform for url: https://www.geeksforgeeks.org/print-all-the-duplicates-in-the-input-string/\n",
      "Unknown platform for url: https://www.geeksforgeeks.org/a-program-to-check-if-strings-are-rotations-of-each-other/\n",
      "Unknown platform for url: https://www.programiz.com/java-programming/examples/check-valid-shuffle-of-strings\n",
      "Unknown platform for url: https://www.geeksforgeeks.org/print-subsequences-string/\n",
      "Unknown platform for url: https://www.geeksforgeeks.org/split-the-binary-string-into-substrings-with-equal-number-of-0s-and-1s/\n",
      "Unknown platform for url: https://www.geeksforgeeks.org/rabin-karp-algorithm-for-pattern-searching/\n",
      "Unknown platform for url: https://www.geeksforgeeks.org/convert-sentence-equivalent-mobile-numeric-keypad-sequence/\n",
      "Unknown platform for url: https://www.geeksforgeeks.org/find-count-number-given-string-present-2d-character-array/\n",
      "Unknown platform for url: https://www.geeksforgeeks.org/boyer-moore-algorithm-for-pattern-searching/\n",
      "Unknown platform for url: https://www.geeksforgeeks.org/program-generate-possible-valid-ip-addresses-given-string/\n",
      "Unknown platform for url: https://www.geeksforgeeks.org/minimum-characters-added-front-make-string-palindrome/\n",
      "Unknown platform for url: https://www.geeksforgeeks.org/function-to-find-number-of-customers-who-could-not-get-a-computer/\n",
      "Unknown platform for url: https://www.geeksforgeeks.org/transform-one-string-to-another-using-minimum-number-of-given-operation/\n",
      "Unknown platform for url: https://www.geeksforgeeks.org/recursively-print-all-sentences-that-can-be-formed-from-list-of-word-lists/\n",
      "Unknown platform for url: https://www.geeksforgeeks.org/optimum-location-point-minimize-total-distance/\n",
      "Unknown platform for url: https://www.geeksforgeeks.org/searching-array-adjacent-differ-k/\n",
      "Unknown platform for url: https://www.geeksforgeeks.org/weighted-job-scheduling-log-n-time/\n",
      "Unknown platform for url: https://www.geeksforgeeks.org/in-place-merge-sort/\n",
      "Unknown platform for url: https://www.geeksforgeeks.org/reverse-a-linked-list/\n",
      "Unknown platform for url: https://www.geeksforgeeks.org/find-first-node-of-loop-in-a-linked-list/\n",
      "Unknown platform for url: https://www.geeksforgeeks.org/move-last-element-to-front-of-a-given-linked-list/\n",
      "Unknown platform for url: https://www.geeksforgeeks.org/deletion-circular-linked-list/\n",
      "Unknown platform for url: https://www.geeksforgeeks.org/find-pairs-given-sum-doubly-linked-list/\n",
      "Unknown platform for url: https://www.geeksforgeeks.org/count-triplets-sorted-doubly-linked-list-whose-sum-equal-given-value-x/\n",
      "Unknown platform for url: https://www.geeksforgeeks.org/sort-k-sorted-doubly-linked-list/\n",
      "Unknown platform for url: https://www.geeksforgeeks.org/rotate-doubly-linked-list-n-nodes/\n",
      "Unknown platform for url: https://www.geeksforgeeks.org/reverse-doubly-linked-list-groups-given-size/\n",
      "Unknown platform for url: https://www.geeksforgeeks.org/create-a-mirror-tree-from-the-given-binary-tree/\n",
      "Unknown platform for url: https://www.geeksforgeeks.org/diagonal-traversal-of-binary-tree/\n",
      "Unknown platform for url: https://www.geeksforgeeks.org/construct-binary-tree-string-bracket-representation/\n",
      "Unknown platform for url: https://www.geeksforgeeks.org/minimum-swap-required-convert-binary-tree-binary-search-tree/\n",
      "Unknown platform for url: https://www.geeksforgeeks.org/check-given-graph-tree/\n",
      "Unknown platform for url: https://www.geeksforgeeks.org/find-largest-subtree-sum-tree/\n",
      "Unknown platform for url: https://www.geeksforgeeks.org/maximum-sum-nodes-binary-tree-no-two-adjacent/\n",
      "Unknown platform for url: https://www.geeksforgeeks.org/print-k-sum-paths-binary-tree/\n",
      "Unknown platform for url: https://www.geeksforgeeks.org/kth-ancestor-node-binary-tree-set-2/\n",
      "Unknown platform for url: https://www.geeksforgeeks.org/binary-search-tree-set-1-search-and-insertion/\n",
      "Unknown platform for url: https://www.geeksforgeeks.org/construct-bst-from-given-preorder-traversa/\n",
      "Unknown platform for url: https://www.geeksforgeeks.org/convert-normal-bst-balanced-bst/\n",
      "Unknown platform for url: https://www.geeksforgeeks.org/merge-two-balanced-binary-search-trees/\n",
      "Unknown platform for url: https://www.geeksforgeeks.org/find-median-bst-time-o1-space/\n",
      "Unknown platform for url: https://www.geeksforgeeks.org/replace-every-element-with-the-least-greater-element-on-its-right/\n",
      "Unknown platform for url: https://www.geeksforgeeks.org/given-n-appointments-find-conflicting-appointments/\n",
      "Unknown platform for url: https://www.geeksforgeeks.org/flatten-bst-to-sorted-list-increasing-order/\n",
      "Unknown platform for url: https://www.geeksforgeeks.org/maximum-trains-stoppage-can-provided/\n",
      "Unknown platform for url: https://www.geeksforgeeks.org/buy-maximum-stocks-stocks-can-bought-th-day/\n",
      "Unknown platform for url: https://www.geeksforgeeks.org/minimize-cash-flow-among-given-set-friends-borrowed-money/\n",
      "Unknown platform for url: https://www.geeksforgeeks.org/minimum-cost-cut-board-squares/\n",
      "Unknown platform for url: https://www.geeksforgeeks.org/survival/\n",
      "Unknown platform for url: https://www.geeksforgeeks.org/find-maximum-meetings-in-one-room/\n",
      "Unknown platform for url: https://www.geeksforgeeks.org/maximum-product-subset-array/\n",
      "Unknown platform for url: https://www.geeksforgeeks.org/maximum-sum-absolute-difference-array/\n",
      "Unknown platform for url: https://www.geeksforgeeks.org/minimum-sum-absolute-difference-pairs-two-arrays/\n",
      "Unknown platform for url: https://www.geeksforgeeks.org/program-for-shortest-job-first-or-sjf-cpu-scheduling-set-1-non-preemptive/\n",
      "Unknown platform for url: https://www.geeksforgeeks.org/smallest-subset-sum-greater-elements/\n",
      "Unknown platform for url: https://www.geeksforgeeks.org/k-centers-problem-set-1-greedy-approximate-algorithm/\n",
      "Unknown platform for url: https://www.geeksforgeeks.org/find-maximum-sum-possible-equal-sum-three-stacks/\n",
      "Unknown platform for url: https://www.geeksforgeeks.org/printing-solutions-n-queen-problem/\n",
      "Unknown platform for url: https://www.geeksforgeeks.org/given-a-string-print-all-possible-palindromic-partition/\n",
      "Unknown platform for url: https://www.geeksforgeeks.org/the-knights-tour-problem-backtracking-1/\n",
      "Unknown platform for url: https://www.geeksforgeeks.org/tug-of-war/\n",
      "Unknown platform for url: https://www.geeksforgeeks.org/find-shortest-safe-route-in-a-path-with-landmines/\n",
      "Unknown platform for url: https://www.geeksforgeeks.org/find-if-there-is-a-path-of-more-than-k-length-from-a-source/\n",
      "Unknown platform for url: https://www.geeksforgeeks.org/longest-possible-route-in-a-matrix-with-hurdles/\n",
      "Unknown platform for url: https://www.geeksforgeeks.org/print-all-possible-paths-from-top-left-to-bottom-right-of-a-mxn-matrix/\n",
      "Unknown platform for url: https://www.geeksforgeeks.org/find-the-k-th-permutation-sequence-of-first-n-natural-numbers/\n",
      "Unknown platform for url: https://www.programiz.com/dsa/stack\n",
      "Unknown platform for url: https://www.geeksforgeeks.org/queue-set-1introduction-and-array-implementation/\n",
      "Unknown platform for url: https://www.geeksforgeeks.org/design-a-stack-with-find-middle-operation/\n",
      "Unknown platform for url: https://www.geeksforgeeks.org/efficiently-implement-k-stacks-single-array/\n",
      "Unknown platform for url: https://www.geeksforgeeks.org/arithmetic-expression-evalution/\n",
      "Unknown platform for url: https://www.geeksforgeeks.org/reverse-a-stack-using-recursion/\n",
      "Unknown platform for url: https://www.geeksforgeeks.org/expression-contains-redundant-bracket-not/\n",
      "Unknown platform for url: https://www.geeksforgeeks.org/implement-stack-queue-using-deque/\n",
      "Unknown platform for url: https://www.geeksforgeeks.org/stack-permutations-check-if-an-array-is-stack-permutation-of-other/\n",
      "Unknown platform for url: https://www.geeksforgeeks.org/efficiently-implement-k-queues-single-array/\n",
      "Unknown platform for url: https://www.geeksforgeeks.org/circular-queue-set-1-introduction-array-implementation/\n",
      "Unknown platform for url: https://www.geeksforgeeks.org/interleave-first-half-queue-second-half/\n",
      "Unknown platform for url: https://www.geeksforgeeks.org/check-if-all-levels-of-two-trees-are-anagrams-or-not/\n",
      "Unknown platform for url: https://www.geeksforgeeks.org/sum-minimum-maximum-elements-subarrays-size-k/\n",
      "Unknown platform for url: https://www.geeksforgeeks.org/next-smaller-element/\n",
      "Unknown platform for url: https://www.geeksforgeeks.org/building-heap-from-array/\n",
      "Unknown platform for url: https://www.geeksforgeeks.org/heap-sort/\n",
      "Unknown platform for url: https://www.geeksforgeeks.org/sliding-window-maximum-maximum-of-all-subarrays-of-size-k/\n",
      "Unknown platform for url: https://www.geeksforgeeks.org/kth-smallestlargest-element-unsorted-array/\n",
      "Unknown platform for url: https://www.geeksforgeeks.org/k-th-largest-sum-contiguous-subarray/\n",
      "Unknown platform for url: https://www.geeksforgeeks.org/convert-bst-min-heap/\n",
      "Unknown platform for url: https://www.geeksforgeeks.org/convert-min-heap-to-max-heap/\n",
      "Unknown platform for url: https://www.geeksforgeeks.org/depth-first-search-or-dfs-for-a-graph/\n",
      "Unknown platform for url: https://www.geeksforgeeks.org/detect-cycle-in-a-graph/\n",
      "Unknown platform for url: https://www.geeksforgeeks.org/dijkstras-shortest-path-algorithm-greedy-algo-7/\n",
      "Unknown platform for url: https://www.geeksforgeeks.org/minimum-time-taken-by-each-job-to-be-completed-given-by-a-directed-acyclic-graph/\n",
      "Unknown platform for url: https://www.geeksforgeeks.org/find-whether-it-is-possible-to-finish-all-tasks-or-not-from-given-dependencies/\n",
      "Unknown platform for url: https://www.geeksforgeeks.org/kruskals-minimum-spanning-tree-algorithm-greedy-algo-2/\n",
      "Unknown platform for url: https://www.geeksforgeeks.org/prims-minimum-spanning-tree-mst-greedy-algo-5/\n",
      "Unknown platform for url: https://www.geeksforgeeks.org/total-number-spanning-trees-graph/\n",
      "Unknown platform for url: https://www.geeksforgeeks.org/travelling-salesman-problem-set-1/\n",
      "Unknown platform for url: https://www.geeksforgeeks.org/graph-coloring-applications/\n",
      "Unknown platform for url: https://www.geeksforgeeks.org/bridge-in-a-graph/\n",
      "Unknown platform for url: https://www.geeksforgeeks.org/bipartite-graph/\n",
      "Unknown platform for url: https://www.geeksforgeeks.org/detect-negative-cycle-graph-bellman-ford/\n",
      "Unknown platform for url: https://www.geeksforgeeks.org/find-longest-path-directed-acyclic-graph/\n",
      "Unknown platform for url: https://www.geeksforgeeks.org/water-jug-problem-using-bfs/\n",
      "Unknown platform for url: https://www.geeksforgeeks.org/minimum-edges-reverse-make-path-source-destination/\n",
      "Unknown platform for url: https://www.geeksforgeeks.org/paths-travel-nodes-using-edgeseven-bridges-konigsberg/\n",
      "Unknown platform for url: https://www.geeksforgeeks.org/vertex-cover-problem-set-1-introduction-approximate-algorithm-2/\n",
      "Unknown platform for url: https://www.geeksforgeeks.org/chinese-postman-route-inspection-set-1-introduction/\n",
      "Unknown platform for url: https://www.geeksforgeeks.org/number-of-triangles-in-directed-and-undirected-graphs/\n",
      "Unknown platform for url: https://www.geeksforgeeks.org/two-clique-problem-check-graph-can-divided-two-cliques/\n",
      "Unknown platform for url: https://www.geeksforgeeks.org/trie-insert-and-search/\n",
      "Unknown platform for url: https://www.geeksforgeeks.org/find-all-shortest-unique-prefixes-to-represent-each-word-in-a-given-list/\n",
      "Unknown platform for url: https://www.geeksforgeeks.org/word-break-problem-trie-solution/\n",
      "Unknown platform for url: https://www.geeksforgeeks.org/permutation-coefficient/\n",
      "Unknown platform for url: https://www.geeksforgeeks.org/program-nth-catalan-number/\n",
      "Unknown platform for url: https://www.geeksforgeeks.org/matrix-chain-multiplication-dp-8/\n",
      "Unknown platform for url: https://www.geeksforgeeks.org/gold-mine-problem/\n",
      "Unknown platform for url: https://www.geeksforgeeks.org/assembly-line-scheduling-dp-34/\n",
      "Unknown platform for url: https://www.geeksforgeeks.org/space-optimized-solution-lcs/\n",
      "Unknown platform for url: https://www.geeksforgeeks.org/count-subsequences-product-less-k/\n",
      "Unknown platform for url: https://www.geeksforgeeks.org/maximum-subsequence-sum-such-that-no-three-are-consecutive/\n",
      "Unknown platform for url: https://www.geeksforgeeks.org/minimum-removals-array-make-max-min-k/\n",
      "Unknown platform for url: https://www.geeksforgeeks.org/smallest-sum-contiguous-subarray/\n",
      "Unknown platform for url: https://www.geeksforgeeks.org/largest-independent-set-problem-dp-26/\n",
      "Unknown platform for url: https://www.geeksforgeeks.org/longest-palindromic-subsequence-dp-12/\n",
      "Unknown platform for url: https://www.geeksforgeeks.org/weighted-job-scheduling/\n",
      "Unknown platform for url: https://www.geeksforgeeks.org/coin-game-winner-every-player-three-choices/\n",
      "Unknown platform for url: https://www.geeksforgeeks.org/count-derangements-permutation-such-that-no-element-appears-in-its-original-position/\n",
      "Unknown platform for url: https://www.geeksforgeeks.org/optimal-binary-search-tree-dp-24/\n",
      "Unknown platform for url: https://www.geeksforgeeks.org/largest-rectangular-sub-matrix-whose-sum-0/\n",
      "Unknown platform for url: https://www.geeksforgeeks.org/largest-area-rectangular-sub-matrix-equal-number-1s-0s/\n",
      "Unknown platform for url: https://www.geeksforgeeks.org/copy-set-bits-in-a-range/\n",
      "Unknown platform for url: https://www.geeksforgeeks.org/divide-two-integers-without-using-multiplication-division-mod-operator/\n",
      "Unknown platform for url: https://www.geeksforgeeks.org/calculate-square-of-a-number-without-using-and-pow/\n"
     ]
    },
    {
     "name": "stderr",
     "output_type": "stream",
     "text": [
      "\n"
     ]
    }
   ],
   "source": [
    "real_problems_urls_titles = []\n",
    "for index in tqdm(range(len(problems_urls_titles)), desc=\"Expanding LB450 URLS\", ncols=100):\n",
    "    item = problems_urls_titles[index]\n",
    "    url = item[\"url\"]\n",
    "    title = item[\"title\"]\n",
    "    if \"bit.ly\" in url or \"codingninjas.com/codestudio\" in url or \"codingninjas.com/studio\" in url:\n",
    "        url = expand_url(url)\n",
    "    platform = problem_url2platform(url)\n",
    "    if platform != ProblemPlatform.UNKNOWN:\n",
    "        url = strip_query_params(url)\n",
    "        real_problems_urls_titles.append({\"url\": url, \"title\": title})\n",
    "    else:\n",
    "        tutorials_urls_titles.append({\"url\": url, \"title\": title})"
   ]
  },
  {
   "cell_type": "code",
   "execution_count": 99,
   "metadata": {},
   "outputs": [
    {
     "data": {
      "text/plain": [
       "273"
      ]
     },
     "execution_count": 99,
     "metadata": {},
     "output_type": "execute_result"
    }
   ],
   "source": [
    "len(real_problems_urls_titles)"
   ]
  },
  {
   "cell_type": "code",
   "execution_count": 100,
   "metadata": {},
   "outputs": [],
   "source": [
    "problems_urls_titles = real_problems_urls_titles"
   ]
  },
  {
   "cell_type": "code",
   "execution_count": 101,
   "metadata": {},
   "outputs": [
    {
     "data": {
      "text/plain": [
       "146"
      ]
     },
     "execution_count": 101,
     "metadata": {},
     "output_type": "execute_result"
    }
   ],
   "source": [
    "len(tutorials_urls_titles)"
   ]
  },
  {
   "cell_type": "code",
   "execution_count": 102,
   "metadata": {},
   "outputs": [
    {
     "data": {
      "text/plain": [
       "419"
      ]
     },
     "execution_count": 102,
     "metadata": {},
     "output_type": "execute_result"
    }
   ],
   "source": [
    "len(problems_urls_titles) + len(tutorials_urls_titles)"
   ]
  },
  {
   "cell_type": "code",
   "execution_count": 103,
   "metadata": {},
   "outputs": [],
   "source": [
    "urls = [item[\"url\"] for item in problems_urls_titles]"
   ]
  },
  {
   "cell_type": "code",
   "execution_count": 104,
   "metadata": {},
   "outputs": [
    {
     "data": {
      "text/plain": [
       "273"
      ]
     },
     "execution_count": 104,
     "metadata": {},
     "output_type": "execute_result"
    }
   ],
   "source": [
    "len(urls)"
   ]
  },
  {
   "cell_type": "code",
   "execution_count": 105,
   "metadata": {},
   "outputs": [
    {
     "data": {
      "text/plain": [
       "Counter({'GFG': 229, 'LC': 25, 'SPOJ': 11, 'HE': 4, 'C360': 3, 'HR': 1})"
      ]
     },
     "execution_count": 105,
     "metadata": {},
     "output_type": "execute_result"
    }
   ],
   "source": [
    "# Count the number of problems in each platform\n",
    "from collections import Counter\n",
    "\n",
    "platforms = [problem_url2platform(url).value for url in urls]\n",
    "count = Counter(platforms)\n",
    "count"
   ]
  },
  {
   "cell_type": "code",
   "execution_count": 106,
   "metadata": {},
   "outputs": [
    {
     "name": "stderr",
     "output_type": "stream",
     "text": [
      "Processing URLs:   0%|                                                      | 0/273 [00:00<?, ?it/s]"
     ]
    },
    {
     "name": "stderr",
     "output_type": "stream",
     "text": [
      "Processing URLs:  29%|████████████▊                                | 78/273 [01:59<04:56,  1.52s/it]"
     ]
    },
    {
     "name": "stdout",
     "output_type": "stream",
     "text": [
      "No slug found for url: https://www.hackerearth.com/problem/algorithm/bishu-and-soldiers-227/\n"
     ]
    },
    {
     "name": "stderr",
     "output_type": "stream",
     "text": [
      "Processing URLs:  29%|█████████████                                | 79/273 [02:00<04:14,  1.31s/it]"
     ]
    },
    {
     "name": "stdout",
     "output_type": "stream",
     "text": [
      "No slug found for url: https://www.hackerearth.com/practice/algorithms/searching/binary-search/practice-problems/algorithm/rasta-and-kheshtak/\n"
     ]
    },
    {
     "name": "stderr",
     "output_type": "stream",
     "text": [
      "Processing URLs:  29%|█████████████▏                               | 80/273 [02:01<03:52,  1.20s/it]"
     ]
    },
    {
     "name": "stdout",
     "output_type": "stream",
     "text": [
      "No slug found for url: https://www.hackerearth.com/practice/algorithms/searching/binary-search/practice-problems/algorithm/kth-smallest-number-again-2/\n"
     ]
    },
    {
     "name": "stderr",
     "output_type": "stream",
     "text": [
      "Processing URLs:  84%|█████████████████████████████████████       | 230/273 [05:25<00:48,  1.12s/it]"
     ]
    },
    {
     "name": "stdout",
     "output_type": "stream",
     "text": [
      "No slug found for url: https://www.hackerrank.com/challenges/journey-to-the-moon/problem\n"
     ]
    },
    {
     "name": "stderr",
     "output_type": "stream",
     "text": [
      "Processing URLs:  85%|█████████████████████████████████████▍      | 232/273 [05:29<00:55,  1.35s/it]"
     ]
    },
    {
     "name": "stdout",
     "output_type": "stream",
     "text": [
      "No slug found for url: https://www.hackerearth.com/practice/algorithms/graphs/topological-sort/practice-problems/algorithm/oliver-and-the-game-3/\n"
     ]
    },
    {
     "name": "stderr",
     "output_type": "stream",
     "text": [
      "Processing URLs: 100%|████████████████████████████████████████████| 273/273 [06:24<00:00,  1.41s/it]\n"
     ]
    },
    {
     "data": {
      "text/plain": [
       "273"
      ]
     },
     "execution_count": 106,
     "metadata": {},
     "output_type": "execute_result"
    }
   ],
   "source": [
    "parsed_data = problems_parse4db(urls, \"lb-450-progress.json\")\n",
    "len(parsed_data)"
   ]
  },
  {
   "cell_type": "code",
   "execution_count": 107,
   "metadata": {},
   "outputs": [
    {
     "data": {
      "text/plain": [
       "[{'id': '701747GFG',\n",
       "  'type': 'problem',\n",
       "  'title': 'Kth Smallest',\n",
       "  'platform': 'GFG',\n",
       "  'href': 'https://practice.geeksforgeeks.org/problems/kth-smallest-element/0'},\n",
       " {'id': '702382GFG',\n",
       "  'type': 'problem',\n",
       "  'title': 'Sort 0s, 1s and 2s',\n",
       "  'platform': 'GFG',\n",
       "  'href': 'https://practice.geeksforgeeks.org/problems/sort-an-array-of-0s-1s-and-2s/0'},\n",
       " {'id': '701730GFG',\n",
       "  'type': 'problem',\n",
       "  'title': 'Union of Arrays with Duplicates',\n",
       "  'platform': 'GFG',\n",
       "  'href': 'https://practice.geeksforgeeks.org/problems/union-of-two-arrays/0'}]"
      ]
     },
     "execution_count": 107,
     "metadata": {},
     "output_type": "execute_result"
    }
   ],
   "source": [
    "parsed_data[:3]"
   ]
  },
  {
   "cell_type": "code",
   "execution_count": 108,
   "metadata": {},
   "outputs": [],
   "source": [
    "problems_parsed = [{**parsed_data[i], \"title\": problems_urls_titles[i][\"title\"]} for i in range(len(parsed_data))]"
   ]
  },
  {
   "cell_type": "code",
   "execution_count": 109,
   "metadata": {},
   "outputs": [
    {
     "data": {
      "text/plain": [
       "273"
      ]
     },
     "execution_count": 109,
     "metadata": {},
     "output_type": "execute_result"
    }
   ],
   "source": [
    "len(problems_parsed)"
   ]
  },
  {
   "cell_type": "code",
   "execution_count": 110,
   "metadata": {},
   "outputs": [
    {
     "data": {
      "text/plain": [
       "[{'id': '701747GFG',\n",
       "  'type': 'problem',\n",
       "  'title': 'Find the \"Kth\" max and min element of an array ',\n",
       "  'platform': 'GFG',\n",
       "  'href': 'https://practice.geeksforgeeks.org/problems/kth-smallest-element/0'},\n",
       " {'id': '702382GFG',\n",
       "  'type': 'problem',\n",
       "  'title': 'Given an array which consists of only 0, 1 and 2. Sort the array without using any sorting algo',\n",
       "  'platform': 'GFG',\n",
       "  'href': 'https://practice.geeksforgeeks.org/problems/sort-an-array-of-0s-1s-and-2s/0'},\n",
       " {'id': '701730GFG',\n",
       "  'type': 'problem',\n",
       "  'title': 'Find the Union and Intersection of the two sorted arrays.',\n",
       "  'platform': 'GFG',\n",
       "  'href': 'https://practice.geeksforgeeks.org/problems/union-of-two-arrays/0'}]"
      ]
     },
     "execution_count": 110,
     "metadata": {},
     "output_type": "execute_result"
    }
   ],
   "source": [
    "problems_parsed[:3]"
   ]
  },
  {
   "cell_type": "code",
   "execution_count": 111,
   "metadata": {},
   "outputs": [
    {
     "name": "stderr",
     "output_type": "stream",
     "text": [
      "Processing URLs: 100%|██████████████████████████████████████████| 146/146 [00:00<00:00, 3954.54it/s]"
     ]
    },
    {
     "name": "stdout",
     "output_type": "stream",
     "text": [
      "No slug found for url: https://www.scaler.com/topics/why-string-is-immutable-in-java/\n",
      "No slug found for url: https://www.naukri.com/code360/library/is-it-possible-to-reverse-a-linked-list-in-less-than-o-n\n",
      "No slug found for url: https://www.naukri.com/code360/library/why-is-quick-sort-preferred-for-arrays-and-merge-sort-for-linked-lists\n",
      "No slug found for url: https://www.programiz.com/java-programming/examples/check-valid-shuffle-of-strings\n",
      "No slug found for url: https://www.programiz.com/dsa/stack\n"
     ]
    },
    {
     "name": "stderr",
     "output_type": "stream",
     "text": [
      "\n"
     ]
    }
   ],
   "source": [
    "tutorials_parsed = tutorials_parse4db(tutorials_urls_titles)"
   ]
  },
  {
   "cell_type": "code",
   "execution_count": 112,
   "metadata": {},
   "outputs": [
    {
     "data": {
      "text/plain": [
       "146"
      ]
     },
     "execution_count": 112,
     "metadata": {},
     "output_type": "execute_result"
    }
   ],
   "source": [
    "len(tutorials_parsed)"
   ]
  },
  {
   "cell_type": "code",
   "execution_count": 113,
   "metadata": {},
   "outputs": [
    {
     "data": {
      "text/plain": [
       "[{'id': '4ebd0208-8328-5d69-8c44-ec50939c0967SCALER',\n",
       "  'type': 'tutorial',\n",
       "  'title': 'Why strings are immutable in Java?',\n",
       "  'platform': 'SCALER',\n",
       "  'href': 'https://www.scaler.com/topics/why-string-is-immutable-in-java/'},\n",
       " {'id': '4ebd0208-8328-5d69-8c44-ec50939c0967C360',\n",
       "  'type': 'tutorial',\n",
       "  'title': 'Can we reverse a linked list in less than O(n) ?',\n",
       "  'platform': 'C360',\n",
       "  'href': 'https://www.naukri.com/code360/library/is-it-possible-to-reverse-a-linked-list-in-less-than-o-n'},\n",
       " {'id': '4ebd0208-8328-5d69-8c44-ec50939c0967C360',\n",
       "  'type': 'tutorial',\n",
       "  'title': 'Why is quick sort preferred for arrays and merge sort for linked lists?',\n",
       "  'platform': 'C360',\n",
       "  'href': 'https://www.naukri.com/code360/library/why-is-quick-sort-preferred-for-arrays-and-merge-sort-for-linked-lists'}]"
      ]
     },
     "execution_count": 113,
     "metadata": {},
     "output_type": "execute_result"
    }
   ],
   "source": [
    "tutorials_parsed[:3]"
   ]
  },
  {
   "cell_type": "code",
   "execution_count": 114,
   "metadata": {},
   "outputs": [],
   "source": [
    "parsed_merged = problems_parsed + tutorials_parsed"
   ]
  },
  {
   "cell_type": "code",
   "execution_count": 115,
   "metadata": {},
   "outputs": [
    {
     "data": {
      "text/plain": [
       "419"
      ]
     },
     "execution_count": 115,
     "metadata": {},
     "output_type": "execute_result"
    }
   ],
   "source": [
    "len(parsed_merged)"
   ]
  },
  {
   "cell_type": "code",
   "execution_count": 116,
   "metadata": {},
   "outputs": [
    {
     "data": {
      "text/plain": [
       "[{'id': '701747GFG',\n",
       "  'type': 'problem',\n",
       "  'title': 'Find the \"Kth\" max and min element of an array ',\n",
       "  'platform': 'GFG',\n",
       "  'href': 'https://practice.geeksforgeeks.org/problems/kth-smallest-element/0'},\n",
       " {'id': '702382GFG',\n",
       "  'type': 'problem',\n",
       "  'title': 'Given an array which consists of only 0, 1 and 2. Sort the array without using any sorting algo',\n",
       "  'platform': 'GFG',\n",
       "  'href': 'https://practice.geeksforgeeks.org/problems/sort-an-array-of-0s-1s-and-2s/0'},\n",
       " {'id': '701730GFG',\n",
       "  'type': 'problem',\n",
       "  'title': 'Find the Union and Intersection of the two sorted arrays.',\n",
       "  'platform': 'GFG',\n",
       "  'href': 'https://practice.geeksforgeeks.org/problems/union-of-two-arrays/0'}]"
      ]
     },
     "execution_count": 116,
     "metadata": {},
     "output_type": "execute_result"
    }
   ],
   "source": [
    "parsed_merged[:3]"
   ]
  },
  {
   "cell_type": "code",
   "execution_count": 117,
   "metadata": {},
   "outputs": [],
   "source": [
    "os.makedirs(os.path.dirname(export_file), exist_ok=True)"
   ]
  },
  {
   "cell_type": "code",
   "execution_count": 118,
   "metadata": {},
   "outputs": [],
   "source": [
    "with open(export_file, \"w\", encoding=\"utf-8\") as f:\n",
    "    json.dump(parsed_merged, f, ensure_ascii=False, indent=4)"
   ]
  },
  {
   "cell_type": "code",
   "execution_count": null,
   "metadata": {},
   "outputs": [],
   "source": []
  }
 ],
 "metadata": {
  "kernelspec": {
   "display_name": ".venv",
   "language": "python",
   "name": "python3"
  },
  "language_info": {
   "codemirror_mode": {
    "name": "ipython",
    "version": 3
   },
   "file_extension": ".py",
   "mimetype": "text/x-python",
   "name": "python",
   "nbconvert_exporter": "python",
   "pygments_lexer": "ipython3",
   "version": "3.13.0"
  }
 },
 "nbformat": 4,
 "nbformat_minor": 2
}
