{
 "cells": [
  {
   "cell_type": "code",
   "execution_count": 1,
   "metadata": {},
   "outputs": [],
   "source": [
    "%run utils/devtools.py"
   ]
  },
  {
   "cell_type": "code",
   "execution_count": 24,
   "metadata": {},
   "outputs": [
    {
     "name": "stdout",
     "output_type": "stream",
     "text": [
      "✅ Reloaded package 'utils' and its submodules.\n"
     ]
    }
   ],
   "source": [
    "%reloadmypkg utils\n",
    "\n",
    "import pandas as pd\n",
    "from utils.url2platform import *\n",
    "from utils.standardise_url import *\n",
    "from utils.fetch_info import *\n",
    "from openpyxl import load_workbook\n",
    "from utils.dump_df_to_json import *"
   ]
  },
  {
   "cell_type": "code",
   "execution_count": 3,
   "metadata": {},
   "outputs": [],
   "source": [
    "file_path = \"../raw-data/love-babbar/450.xlsx\"\n",
    "export_file = \"../cleaned-data/lb/450.json\""
   ]
  },
  {
   "cell_type": "code",
   "execution_count": 4,
   "metadata": {},
   "outputs": [],
   "source": [
    "problems_urls_titles = []\n",
    "tutorials_urls_titles = []\n",
    "\n",
    "wb = load_workbook(file_path)\n",
    "ws = wb.active\n",
    "\n",
    "data = [\n",
    "    {\n",
    "        \"original_title\": cell.value,\n",
    "        \"url\": cell.hyperlink.target,\n",
    "    }\n",
    "    if cell.hyperlink else\n",
    "    {\n",
    "        \"original_title\": cell.value,\n",
    "        \"url\": None,\n",
    "    }\n",
    "    for row in ws.iter_rows(min_row=6)\n",
    "    for cell in [row[1]]\n",
    "    if cell.value is not None and cell.value != '<->' and isinstance(cell.value, str)\n",
    "]\n",
    "\n",
    "df = pd.DataFrame(data)"
   ]
  },
  {
   "cell_type": "code",
   "execution_count": 7,
   "metadata": {},
   "outputs": [
    {
     "data": {
      "text/plain": [
       "(448, 2)"
      ]
     },
     "execution_count": 7,
     "metadata": {},
     "output_type": "execute_result"
    }
   ],
   "source": [
    "df.shape"
   ]
  },
  {
   "cell_type": "code",
   "execution_count": 8,
   "metadata": {},
   "outputs": [],
   "source": [
    "missing_urls = df[df[\"url\"].isna()]"
   ]
  },
  {
   "cell_type": "code",
   "execution_count": 9,
   "metadata": {},
   "outputs": [
    {
     "data": {
      "text/plain": [
       "(3, 2)"
      ]
     },
     "execution_count": 9,
     "metadata": {},
     "output_type": "execute_result"
    }
   ],
   "source": [
    "missing_urls.shape"
   ]
  },
  {
   "cell_type": "code",
   "execution_count": 10,
   "metadata": {},
   "outputs": [],
   "source": [
    "df.at[49, \"url\"] = \"https://www.scaler.com/topics/why-string-is-immutable-in-java/\"\n",
    "df.at[150, \"url\"] = \"https://www.naukri.com/code360/library/is-it-possible-to-reverse-a-linked-list-in-less-than-o-n\"\n",
    "df.at[151, \"url\"] = \"https://www.naukri.com/code360/library/why-is-quick-sort-preferred-for-arrays-and-merge-sort-for-linked-lists\"\n",
    "df.at[151, \"original_title\"] = \"Why is quick sort preferred for arrays and merge sort for linked lists?\""
   ]
  },
  {
   "cell_type": "code",
   "execution_count": 11,
   "metadata": {},
   "outputs": [
    {
     "name": "stdout",
     "output_type": "stream",
     "text": [
      "original_title                   Why strings are immutable in Java?\n",
      "url               https://www.scaler.com/topics/why-string-is-im...\n",
      "Name: 49, dtype: object\n",
      "original_title     Can we reverse a linked list in less than O(n) ?\n",
      "url               https://www.naukri.com/code360/library/is-it-p...\n",
      "Name: 150, dtype: object\n",
      "original_title    Why is quick sort preferred for arrays and mer...\n",
      "url               https://www.naukri.com/code360/library/why-is-...\n",
      "Name: 151, dtype: object\n"
     ]
    }
   ],
   "source": [
    "print(df.loc[49])\n",
    "print(df.loc[150])\n",
    "print(df.loc[151])"
   ]
  },
  {
   "cell_type": "code",
   "execution_count": 12,
   "metadata": {},
   "outputs": [
    {
     "data": {
      "text/plain": [
       "(12, 2)"
      ]
     },
     "execution_count": 12,
     "metadata": {},
     "output_type": "execute_result"
    }
   ],
   "source": [
    "malformed_list = [\n",
    "    \"https://practice.geeksforgeeks.org/problems/merge-two-sorted-arrays5135/1\",\n",
    "    'https://practice.geeksforgeeks.org/problems/overlapping-intervals/0',\n",
    "    'https://www.hackerearth.com/practice/algorithms/searching/binary-search/practice-problems/algorithm/bishu-and-soldiers/',\n",
    "    'http://theoryofprogramming.com/2017/12/16/find-pivot-element-sorted-rotated-array/',\n",
    "    'https://www.baeldung.com/java-sorting-arrays-with-repeated-entries',\n",
    "    'https://stackoverflow.com/questions/45130465/inserting-at-the-end-of-stack',\n",
    "    'https://www.tutorialspoint.com/javaexamples/data_stack.htm',\n",
    "    'https://www.techiedelight.com/inorder-tree-traversal-iterative-recursive/',\n",
    "    'https://www.techiedelight.com/preorder-tree-traversal-iterative-recursive/',\n",
    "    'https://www.techiedelight.com/postorder-tree-traversal-iterative-recursive/',\n",
    "    'https://1drv.ms/t/s!AqTOHFO77CqEiRua06v1PATyiFg5'\n",
    "]\n",
    "\n",
    "malformed_urls = df[df['url'].isin(malformed_list)]\n",
    "malformed_urls.shape"
   ]
  },
  {
   "cell_type": "code",
   "execution_count": 13,
   "metadata": {},
   "outputs": [],
   "source": [
    "# Fix broken links/add better links in the sheet\n",
    "df.at[11, \"url\"] = \"https://www.geeksforgeeks.org/problems/merge-two-sorted-arrays-1587115620/0\"\n",
    "df.at[102, \"url\"] = \"https://www.geeksforgeeks.org/problems/merge-two-sorted-arrays-1587115620/0\"\n",
    "df.at[107, \"url\"] = \"https://www.hackerearth.com/problem/algorithm/bishu-and-soldiers-227/\"\n",
    "df.at[110, \"url\"] = \"https://leetcode.com/problems/search-in-rotated-sorted-array/\"\n",
    "df.at[124, \"url\"] = \"https://www.naukri.com/code360/problems/partitioning-and-sorting-arrays-with-many-repeated-entries_1170515\"\n",
    "df.at[166, \"url\"] = \"https://leetcode.com/problems/binary-tree-inorder-traversal/\"\n",
    "df.at[167, \"url\"] = \"https://leetcode.com/problems/binary-tree-preorder-traversal/\"\n",
    "df.at[168, \"url\"] = \"https://leetcode.com/problems/binary-tree-postorder-traversal/\"\n",
    "df.at[272, \"url\"] = \"https://www.programiz.com/dsa/stack\"\n",
    "df.at[284, \"url\"] = \"https://www.naukri.com/code360/problems/insert-an-element-at-its-bottom-in-a-given-stack_1171166\"\n",
    "df.at[287, \"url\"] = \"https://www.geeksforgeeks.org/problems/overlapping-intervals--170633/0\"\n",
    "df.at[328, \"url\"] = \"https://www.naukri.com/code360/problems/create-a-graph-and-print-it_1214551\""
   ]
  },
  {
   "cell_type": "code",
   "execution_count": 14,
   "metadata": {},
   "outputs": [],
   "source": [
    "# Find and print the duplicates\n",
    "\n",
    "dupes_df = df[df.duplicated(subset=\"url\", keep=False)]"
   ]
  },
  {
   "cell_type": "code",
   "execution_count": 15,
   "metadata": {},
   "outputs": [
    {
     "name": "stdout",
     "output_type": "stream",
     "text": [
      "Total unique URLs with duplicates: 27\n"
     ]
    }
   ],
   "source": [
    "dupe_counts = dupes_df.groupby(\"url\").size()\n",
    "print(f\"Total unique URLs with duplicates: {len(dupe_counts)}\")"
   ]
  },
  {
   "cell_type": "code",
   "execution_count": 16,
   "metadata": {},
   "outputs": [
    {
     "data": {
      "text/plain": [
       "(57, 2)"
      ]
     },
     "execution_count": 16,
     "metadata": {},
     "output_type": "execute_result"
    }
   ],
   "source": [
    "dupes_df.shape"
   ]
  },
  {
   "cell_type": "code",
   "execution_count": 17,
   "metadata": {},
   "outputs": [
    {
     "data": {
      "text/plain": [
       "(448, 2)"
      ]
     },
     "execution_count": 17,
     "metadata": {},
     "output_type": "execute_result"
    }
   ],
   "source": [
    "df.shape"
   ]
  },
  {
   "cell_type": "code",
   "execution_count": 18,
   "metadata": {},
   "outputs": [
    {
     "name": "stdout",
     "output_type": "stream",
     "text": [
      "Filter list is empty. Trying to expand all 448 URLs.\n",
      "Resume option is set to false. Deleted previous checkpoint file: lb-450-urls-expanded.json\n",
      "\n",
      "Processing batch 1/3\n",
      "Loaded 0 results from checkpoint\n",
      "Processing 200 pending URLs in this batch\n"
     ]
    },
    {
     "name": "stderr",
     "output_type": "stream",
     "text": [
      "Expanding URLs: 100%|██████████| 200/200 [00:06<00:00, 33.03it/s]\n"
     ]
    },
    {
     "name": "stdout",
     "output_type": "stream",
     "text": [
      "Progress saved to lb-450-urls-expanded.json\n",
      "----------------------------------------------------------------------\n",
      "Progress saved to lb-450-urls-expanded.json\n",
      "----------------------------------------------------------------------\n",
      "\n",
      "Processing batch 2/3\n",
      "Loaded 200 results from checkpoint\n",
      "Processing 200 pending URLs in this batch\n"
     ]
    },
    {
     "name": "stderr",
     "output_type": "stream",
     "text": [
      "Expanding URLs: 100%|██████████| 200/200 [00:05<00:00, 37.02it/s]\n"
     ]
    },
    {
     "name": "stdout",
     "output_type": "stream",
     "text": [
      "Progress saved to lb-450-urls-expanded.json\n",
      "----------------------------------------------------------------------\n",
      "Progress saved to lb-450-urls-expanded.json\n",
      "----------------------------------------------------------------------\n",
      "\n",
      "Processing batch 3/3\n",
      "Loaded 400 results from checkpoint\n",
      "Processing 48 pending URLs in this batch\n"
     ]
    },
    {
     "name": "stderr",
     "output_type": "stream",
     "text": [
      "Expanding URLs: 100%|██████████| 48/48 [00:03<00:00, 15.98it/s]"
     ]
    },
    {
     "name": "stdout",
     "output_type": "stream",
     "text": [
      "Progress saved to lb-450-urls-expanded.json\n",
      "----------------------------------------------------------------------\n",
      "Progress saved to lb-450-urls-expanded.json\n",
      "----------------------------------------------------------------------\n",
      "\n",
      "448/448 URLs expanded in 21.56 seconds.\n"
     ]
    },
    {
     "name": "stderr",
     "output_type": "stream",
     "text": [
      "\n"
     ]
    }
   ],
   "source": [
    "import nest_asyncio\n",
    "nest_asyncio.apply()\n",
    "\n",
    "standardised_df = await standardise_urls_async(df, \"lb-450-urls-expanded.json\")"
   ]
  },
  {
   "cell_type": "code",
   "execution_count": 19,
   "metadata": {},
   "outputs": [
    {
     "data": {
      "text/plain": [
       "(448, 4)"
      ]
     },
     "execution_count": 19,
     "metadata": {},
     "output_type": "execute_result"
    }
   ],
   "source": [
    "standardised_df.shape"
   ]
  },
  {
   "cell_type": "code",
   "execution_count": 20,
   "metadata": {},
   "outputs": [],
   "source": [
    "# Adding type column\n",
    "standardised_df['type'] = standardised_df['expanded_stripped_url'].apply(\n",
    "    lambda url: \"problem\" if problem_url2platform(url) != ProblemPlatform.UNKNOWN else \"tutorial\"\n",
    ")"
   ]
  },
  {
   "cell_type": "code",
   "execution_count": 21,
   "metadata": {},
   "outputs": [
    {
     "data": {
      "text/plain": [
       "(448, 5)"
      ]
     },
     "execution_count": 21,
     "metadata": {},
     "output_type": "execute_result"
    }
   ],
   "source": [
    "standardised_df.shape"
   ]
  },
  {
   "cell_type": "code",
   "execution_count": null,
   "metadata": {},
   "outputs": [
    {
     "name": "stdout",
     "output_type": "stream",
     "text": [
      "Found 448 URLs.\n",
      "\n",
      "Batch 1/3: items 0-199\n",
      "Loaded 447 from checkpoint\n",
      "Nothing new in this batch\n",
      "Saved progress (447 items) to lb-450-info-added.json\n",
      "------------------------------\n",
      "\n",
      "Batch 2/3: items 200-399\n",
      "Loaded 447 from checkpoint\n",
      "Processing 1 URLs...\n"
     ]
    },
    {
     "name": "stderr",
     "output_type": "stream",
     "text": [
      "Fetching items:   0%|          | 0/1 [00:00<?, ?it/s]"
     ]
    },
    {
     "name": "stderr",
     "output_type": "stream",
     "text": [
      "Fetching items: 100%|██████████| 1/1 [00:00<00:00,  1.77it/s]"
     ]
    },
    {
     "name": "stdout",
     "output_type": "stream",
     "text": [
      "Saved progress (448 items) to lb-450-info-added.json\n",
      "------------------------------\n",
      "Saved progress (448 items) to lb-450-info-added.json\n",
      "------------------------------\n",
      "\n",
      "Batch 3/3: items 400-447\n",
      "Loaded 448 from checkpoint\n",
      "Nothing new in this batch\n",
      "Saved progress (448 items) to lb-450-info-added.json\n",
      "------------------------------\n",
      "\n",
      "Fetched 448/448 items in 0.8s.\n"
     ]
    },
    {
     "name": "stderr",
     "output_type": "stream",
     "text": [
      "\n"
     ]
    }
   ],
   "source": [
    "# Adding id_base, id, title, platform columns\n",
    "import nest_asyncio\n",
    "nest_asyncio.apply()\n",
    "\n",
    "final_df = await fetch_info(standardised_df, \"lb-450-info-added.json\", resume=True)"
   ]
  },
  {
   "cell_type": "code",
   "execution_count": 28,
   "metadata": {},
   "outputs": [
    {
     "data": {
      "text/plain": [
       "(448, 9)"
      ]
     },
     "execution_count": 28,
     "metadata": {},
     "output_type": "execute_result"
    }
   ],
   "source": [
    "final_df.shape"
   ]
  },
  {
   "cell_type": "code",
   "execution_count": 29,
   "metadata": {},
   "outputs": [],
   "source": [
    "dump_df_to_json(final_df, export_file)"
   ]
  },
  {
   "cell_type": "code",
   "execution_count": null,
   "metadata": {},
   "outputs": [],
   "source": []
  }
 ],
 "metadata": {
  "kernelspec": {
   "display_name": ".venv",
   "language": "python",
   "name": "python3"
  },
  "language_info": {
   "codemirror_mode": {
    "name": "ipython",
    "version": 3
   },
   "file_extension": ".py",
   "mimetype": "text/x-python",
   "name": "python",
   "nbconvert_exporter": "python",
   "pygments_lexer": "ipython3",
   "version": "3.13.0"
  }
 },
 "nbformat": 4,
 "nbformat_minor": 2
}
