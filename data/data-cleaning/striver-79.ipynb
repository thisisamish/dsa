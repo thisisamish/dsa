{
 "cells": [
  {
   "cell_type": "code",
   "execution_count": 22,
   "id": "885fdd78",
   "metadata": {},
   "outputs": [],
   "source": [
    "%run utils/devtools.py"
   ]
  },
  {
   "cell_type": "code",
   "execution_count": 23,
   "id": "d9760614",
   "metadata": {},
   "outputs": [
    {
     "name": "stdout",
     "output_type": "stream",
     "text": [
      "✅ Reloaded package 'utils' and its submodules.\n"
     ]
    }
   ],
   "source": [
    "%reloadmypkg utils\n",
    "\n",
    "import pandas as pd\n",
    "from utils.url2platform import *\n",
    "from utils.standardise_url import *\n",
    "from utils.fetch_info import *\n",
    "from utils.dump_df_to_json import *"
   ]
  },
  {
   "cell_type": "code",
   "execution_count": 24,
   "id": "c97fb815",
   "metadata": {},
   "outputs": [],
   "source": [
    "sheet_path = \"../raw-data/striver/79-sheet-response-data.json\"\n",
    "export_file = \"../cleaned-data/striver/79.json\""
   ]
  },
  {
   "cell_type": "code",
   "execution_count": 25,
   "id": "15db718b",
   "metadata": {},
   "outputs": [],
   "source": [
    "with open(sheet_path) as file:\n",
    "    raw = json.load(file)\n",
    "\n",
    "flattened_data = [\n",
    "    {\n",
    "        \"gfg\": topic[\"gfg_link\"],\n",
    "        \"c360\": topic[\"cs_link\"],\n",
    "        \"lc\": topic[\"lc_link\"],\n",
    "        \"original_title\": topic[\"title\"],\n",
    "        \"yt\": topic[\"yt_link\"],\n",
    "        \"post\": topic[\"post_link\"],\n",
    "        \"step_title\": topic[\"head_step_no\"],\n",
    "    }\n",
    "    for step in raw[\"sheetData\"]\n",
    "    for topic in step[\"topics\"]\n",
    "]\n",
    "\n",
    "df = pd.DataFrame(flattened_data)"
   ]
  },
  {
   "cell_type": "code",
   "execution_count": 26,
   "id": "3fd32ae7",
   "metadata": {},
   "outputs": [],
   "source": [
    "def get_best_url(row):\n",
    "    return (\n",
    "        row[\"lc\"] or\n",
    "        row[\"gfg\"] or\n",
    "        row[\"c360\"] or\n",
    "        row[\"yt\"] or\n",
    "        row[\"post\"]\n",
    "    )"
   ]
  },
  {
   "cell_type": "code",
   "execution_count": 27,
   "id": "ccfc5394",
   "metadata": {},
   "outputs": [],
   "source": [
    "df[\"url\"] = df.apply(get_best_url, axis=1)"
   ]
  },
  {
   "cell_type": "code",
   "execution_count": 28,
   "id": "253cd313",
   "metadata": {},
   "outputs": [],
   "source": [
    "df = df[[\"url\", \"original_title\", \"step_title\"]]"
   ]
  },
  {
   "cell_type": "code",
   "execution_count": 29,
   "id": "cb4114b1",
   "metadata": {},
   "outputs": [
    {
     "data": {
      "text/plain": [
       "(79, 3)"
      ]
     },
     "execution_count": 29,
     "metadata": {},
     "output_type": "execute_result"
    }
   ],
   "source": [
    "df.shape"
   ]
  },
  {
   "cell_type": "code",
   "execution_count": 30,
   "id": "35eaf3bf",
   "metadata": {},
   "outputs": [
    {
     "data": {
      "text/plain": [
       "(0, 3)"
      ]
     },
     "execution_count": 30,
     "metadata": {},
     "output_type": "execute_result"
    }
   ],
   "source": [
    "missing_urls = df[df[\"url\"].isna()]\n",
    "missing_urls.shape"
   ]
  },
  {
   "cell_type": "code",
   "execution_count": 31,
   "id": "f13c1b2e",
   "metadata": {},
   "outputs": [
    {
     "data": {
      "text/html": [
       "<div>\n",
       "<style scoped>\n",
       "    .dataframe tbody tr th:only-of-type {\n",
       "        vertical-align: middle;\n",
       "    }\n",
       "\n",
       "    .dataframe tbody tr th {\n",
       "        vertical-align: top;\n",
       "    }\n",
       "\n",
       "    .dataframe thead th {\n",
       "        text-align: right;\n",
       "    }\n",
       "</style>\n",
       "<table border=\"1\" class=\"dataframe\">\n",
       "  <thead>\n",
       "    <tr style=\"text-align: right;\">\n",
       "      <th></th>\n",
       "      <th>url</th>\n",
       "      <th>original_title</th>\n",
       "      <th>step_title</th>\n",
       "    </tr>\n",
       "  </thead>\n",
       "  <tbody>\n",
       "    <tr>\n",
       "      <th>77</th>\n",
       "      <td>https://leetcode.com/problems/implement-strstr/</td>\n",
       "      <td>Z-Function</td>\n",
       "      <td>String</td>\n",
       "    </tr>\n",
       "    <tr>\n",
       "      <th>78</th>\n",
       "      <td>https://leetcode.com/problems/implement-strstr/</td>\n",
       "      <td>KMP algo / LPS(pi) array</td>\n",
       "      <td>String</td>\n",
       "    </tr>\n",
       "  </tbody>\n",
       "</table>\n",
       "</div>"
      ],
      "text/plain": [
       "                                                url            original_title  \\\n",
       "77  https://leetcode.com/problems/implement-strstr/                Z-Function   \n",
       "78  https://leetcode.com/problems/implement-strstr/  KMP algo / LPS(pi) array   \n",
       "\n",
       "   step_title  \n",
       "77     String  \n",
       "78     String  "
      ]
     },
     "execution_count": 31,
     "metadata": {},
     "output_type": "execute_result"
    }
   ],
   "source": [
    "df[df['url'].str.contains(\"implement-strstr\")]"
   ]
  },
  {
   "cell_type": "code",
   "execution_count": 32,
   "id": "e5bf44ce",
   "metadata": {},
   "outputs": [],
   "source": [
    "# Fix the redirect urls\n",
    "df.at[77, \"url\"] = \"https://leetcode.com/problems/find-the-index-of-the-first-occurrence-in-a-string/\"\n",
    "df.at[78, \"url\"] = \"https://leetcode.com/problems/find-the-index-of-the-first-occurrence-in-a-string/\""
   ]
  },
  {
   "cell_type": "code",
   "execution_count": 33,
   "id": "21627f7e",
   "metadata": {},
   "outputs": [
    {
     "data": {
      "text/plain": [
       "(2, 3)"
      ]
     },
     "execution_count": 33,
     "metadata": {},
     "output_type": "execute_result"
    }
   ],
   "source": [
    "# Find the duplicates\n",
    "\n",
    "dupes_df = df[df.duplicated(subset=\"url\", keep=False)]\n",
    "dupes_df.shape"
   ]
  },
  {
   "cell_type": "code",
   "execution_count": 34,
   "id": "c8343959",
   "metadata": {},
   "outputs": [
    {
     "name": "stdout",
     "output_type": "stream",
     "text": [
      "Total unique URLs with duplicates: 1\n"
     ]
    }
   ],
   "source": [
    "dupe_counts = dupes_df.groupby(\"url\").size()\n",
    "print(f\"Total unique URLs with duplicates: {len(dupe_counts)}\")"
   ]
  },
  {
   "cell_type": "code",
   "execution_count": 35,
   "id": "8d5fcf3b",
   "metadata": {},
   "outputs": [
    {
     "name": "stdout",
     "output_type": "stream",
     "text": [
      "Filter list is empty. Trying to expand all 79 URLs.\n",
      "Resume option is set to false. Deleted previous checkpoint file: striver-79-urls-expanded.json\n",
      "\n",
      "Processing batch 1/1\n",
      "Loaded 0 results from checkpoint\n",
      "Processing 79 pending URLs in this batch\n"
     ]
    },
    {
     "name": "stderr",
     "output_type": "stream",
     "text": [
      "Expanding URLs: 100%|██████████| 79/79 [00:01<00:00, 48.52it/s]"
     ]
    },
    {
     "name": "stdout",
     "output_type": "stream",
     "text": [
      "Progress saved to striver-79-urls-expanded.json\n",
      "----------------------------------------------------------------------\n",
      "Progress saved to striver-79-urls-expanded.json\n",
      "----------------------------------------------------------------------\n",
      "\n",
      "79/79 URLs expanded in 2.87 seconds.\n"
     ]
    },
    {
     "name": "stderr",
     "output_type": "stream",
     "text": [
      "\n"
     ]
    }
   ],
   "source": [
    "import nest_asyncio\n",
    "nest_asyncio.apply()\n",
    "\n",
    "standardised_df = await standardise_urls_async(df, \"striver-79-urls-expanded.json\")"
   ]
  },
  {
   "cell_type": "code",
   "execution_count": 36,
   "id": "8fbceaf2",
   "metadata": {},
   "outputs": [
    {
     "data": {
      "text/plain": [
       "(79, 5)"
      ]
     },
     "execution_count": 36,
     "metadata": {},
     "output_type": "execute_result"
    }
   ],
   "source": [
    "standardised_df.shape"
   ]
  },
  {
   "cell_type": "code",
   "execution_count": 37,
   "id": "a64cfbe5",
   "metadata": {},
   "outputs": [],
   "source": [
    "# Adding type column\n",
    "standardised_df['type'] = standardised_df['expanded_stripped_url'].apply(\n",
    "    lambda url: \"problem\" if is_problem_url(url) else \"tutorial\"\n",
    ")"
   ]
  },
  {
   "cell_type": "code",
   "execution_count": 38,
   "id": "f8b681eb",
   "metadata": {},
   "outputs": [
    {
     "data": {
      "text/plain": [
       "(79, 6)"
      ]
     },
     "execution_count": 38,
     "metadata": {},
     "output_type": "execute_result"
    }
   ],
   "source": [
    "standardised_df.shape"
   ]
  },
  {
   "cell_type": "code",
   "execution_count": 39,
   "id": "cc226563",
   "metadata": {},
   "outputs": [
    {
     "data": {
      "text/html": [
       "<div>\n",
       "<style scoped>\n",
       "    .dataframe tbody tr th:only-of-type {\n",
       "        vertical-align: middle;\n",
       "    }\n",
       "\n",
       "    .dataframe tbody tr th {\n",
       "        vertical-align: top;\n",
       "    }\n",
       "\n",
       "    .dataframe thead th {\n",
       "        text-align: right;\n",
       "    }\n",
       "</style>\n",
       "<table border=\"1\" class=\"dataframe\">\n",
       "  <thead>\n",
       "    <tr style=\"text-align: right;\">\n",
       "      <th></th>\n",
       "      <th>url</th>\n",
       "      <th>original_title</th>\n",
       "      <th>step_title</th>\n",
       "      <th>expanded_url</th>\n",
       "      <th>expanded_stripped_url</th>\n",
       "      <th>type</th>\n",
       "    </tr>\n",
       "  </thead>\n",
       "  <tbody>\n",
       "    <tr>\n",
       "      <th>0</th>\n",
       "      <td>https://leetcode.com/problems/next-permutation/</td>\n",
       "      <td>Next Permutation</td>\n",
       "      <td>Arrays and Hashing</td>\n",
       "      <td>https://leetcode.com/problems/next-permutation/</td>\n",
       "      <td>https://leetcode.com/problems/next-permutation/</td>\n",
       "      <td>problem</td>\n",
       "    </tr>\n",
       "  </tbody>\n",
       "</table>\n",
       "</div>"
      ],
      "text/plain": [
       "                                               url    original_title  \\\n",
       "0  https://leetcode.com/problems/next-permutation/  Next Permutation   \n",
       "\n",
       "           step_title                                     expanded_url  \\\n",
       "0  Arrays and Hashing  https://leetcode.com/problems/next-permutation/   \n",
       "\n",
       "                             expanded_stripped_url     type  \n",
       "0  https://leetcode.com/problems/next-permutation/  problem  "
      ]
     },
     "execution_count": 39,
     "metadata": {},
     "output_type": "execute_result"
    }
   ],
   "source": [
    "standardised_df.head(1)"
   ]
  },
  {
   "cell_type": "code",
   "execution_count": 40,
   "id": "71a2bc39",
   "metadata": {},
   "outputs": [
    {
     "name": "stdout",
     "output_type": "stream",
     "text": [
      "Found 79 URLs.\n",
      "Resume is disabled. Deleting old checkpoint...\n",
      "\n",
      "Batch 1/1: items 0-78\n",
      "Loaded 0 from checkpoint\n",
      "Processing 79 URLs...\n"
     ]
    },
    {
     "name": "stderr",
     "output_type": "stream",
     "text": [
      "Fetching items: 100%|██████████| 79/79 [00:02<00:00, 34.95it/s]"
     ]
    },
    {
     "name": "stdout",
     "output_type": "stream",
     "text": [
      "Saved progress (79 items) to striver-79-info-added.json\n",
      "------------------------------\n",
      "Saved progress (79 items) to striver-79-info-added.json\n",
      "------------------------------\n",
      "\n",
      "Fetched 79/79 items in 2.3s.\n"
     ]
    },
    {
     "name": "stderr",
     "output_type": "stream",
     "text": [
      "\n"
     ]
    }
   ],
   "source": [
    "# Adding id, title, platform columns\n",
    "import nest_asyncio\n",
    "nest_asyncio.apply()\n",
    "\n",
    "final_df = await fetch_info(standardised_df, \"striver-79-info-added.json\")"
   ]
  },
  {
   "cell_type": "code",
   "execution_count": 41,
   "id": "12d12e98",
   "metadata": {},
   "outputs": [
    {
     "data": {
      "text/plain": [
       "(79, 9)"
      ]
     },
     "execution_count": 41,
     "metadata": {},
     "output_type": "execute_result"
    }
   ],
   "source": [
    "final_df.shape"
   ]
  },
  {
   "cell_type": "code",
   "execution_count": 42,
   "id": "eef31781",
   "metadata": {},
   "outputs": [],
   "source": [
    "dump_df_to_json(final_df, export_file)"
   ]
  },
  {
   "cell_type": "code",
   "execution_count": null,
   "id": "fc6724a2",
   "metadata": {},
   "outputs": [],
   "source": []
  }
 ],
 "metadata": {
  "kernelspec": {
   "display_name": ".venv",
   "language": "python",
   "name": "python3"
  },
  "language_info": {
   "codemirror_mode": {
    "name": "ipython",
    "version": 3
   },
   "file_extension": ".py",
   "mimetype": "text/x-python",
   "name": "python",
   "nbconvert_exporter": "python",
   "pygments_lexer": "ipython3",
   "version": "3.13.0"
  }
 },
 "nbformat": 4,
 "nbformat_minor": 5
}
