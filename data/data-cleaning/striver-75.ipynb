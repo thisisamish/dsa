{
 "cells": [
  {
   "cell_type": "code",
   "execution_count": 1,
   "id": "885fdd78",
   "metadata": {},
   "outputs": [],
   "source": [
    "%run utils/devtools.py"
   ]
  },
  {
   "cell_type": "code",
   "execution_count": 2,
   "id": "d9760614",
   "metadata": {},
   "outputs": [
    {
     "name": "stdout",
     "output_type": "stream",
     "text": [
      "✅ Reloaded package 'utils' and its submodules.\n"
     ]
    }
   ],
   "source": [
    "%reloadmypkg utils\n",
    "\n",
    "import pandas as pd\n",
    "from utils.url2platform import *\n",
    "from utils.standardise_url import *\n",
    "from utils.fetch_info import *\n",
    "from utils.dump_df_to_json import *"
   ]
  },
  {
   "cell_type": "code",
   "execution_count": 3,
   "id": "c97fb815",
   "metadata": {},
   "outputs": [],
   "source": [
    "sheet_path = \"../raw-data/striver/blind-75-response-data.json\"\n",
    "export_file = \"../cleaned-data/striver/75.json\""
   ]
  },
  {
   "cell_type": "code",
   "execution_count": 4,
   "id": "15db718b",
   "metadata": {},
   "outputs": [],
   "source": [
    "with open(sheet_path) as file:\n",
    "    raw = json.load(file)\n",
    "\n",
    "flattened_data = [\n",
    "    {\n",
    "        \"gfg\": topic[\"gfg_link\"],\n",
    "        \"c360\": topic[\"cs_link\"],\n",
    "        \"lc\": topic[\"lc_link\"],\n",
    "        \"original_title\": topic[\"title\"],\n",
    "        \"yt\": topic[\"yt_link\"],\n",
    "        \"post\": topic[\"post_link\"],\n",
    "        \"step_title\": topic[\"head_step_no\"],\n",
    "    }\n",
    "    for step in raw[\"sheetData\"]\n",
    "    for topic in step[\"topics\"]\n",
    "]\n",
    "\n",
    "df = pd.DataFrame(flattened_data)"
   ]
  },
  {
   "cell_type": "code",
   "execution_count": 5,
   "id": "3fd32ae7",
   "metadata": {},
   "outputs": [],
   "source": [
    "def get_best_url(row):\n",
    "    return (\n",
    "        row[\"lc\"] or\n",
    "        row[\"gfg\"] or\n",
    "        row[\"c360\"] or\n",
    "        row[\"yt\"] or\n",
    "        row[\"post\"]\n",
    "    )"
   ]
  },
  {
   "cell_type": "code",
   "execution_count": 6,
   "id": "ccfc5394",
   "metadata": {},
   "outputs": [],
   "source": [
    "df[\"url\"] = df.apply(get_best_url, axis=1)"
   ]
  },
  {
   "cell_type": "code",
   "execution_count": 7,
   "id": "253cd313",
   "metadata": {},
   "outputs": [],
   "source": [
    "df = df[[\"url\", \"original_title\", \"step_title\"]]"
   ]
  },
  {
   "cell_type": "code",
   "execution_count": 8,
   "id": "cb4114b1",
   "metadata": {},
   "outputs": [
    {
     "data": {
      "text/plain": [
       "(75, 3)"
      ]
     },
     "execution_count": 8,
     "metadata": {},
     "output_type": "execute_result"
    }
   ],
   "source": [
    "df.shape"
   ]
  },
  {
   "cell_type": "code",
   "execution_count": 9,
   "id": "35eaf3bf",
   "metadata": {},
   "outputs": [
    {
     "data": {
      "text/plain": [
       "(0, 3)"
      ]
     },
     "execution_count": 9,
     "metadata": {},
     "output_type": "execute_result"
    }
   ],
   "source": [
    "missing_urls = df[df[\"url\"].isna()]\n",
    "missing_urls.shape"
   ]
  },
  {
   "cell_type": "code",
   "execution_count": 10,
   "id": "21627f7e",
   "metadata": {},
   "outputs": [
    {
     "data": {
      "text/plain": [
       "(0, 3)"
      ]
     },
     "execution_count": 10,
     "metadata": {},
     "output_type": "execute_result"
    }
   ],
   "source": [
    "# Find the duplicates\n",
    "\n",
    "dupes_df = df[df.duplicated(subset=\"url\", keep=False)]\n",
    "dupes_df.shape"
   ]
  },
  {
   "cell_type": "code",
   "execution_count": 11,
   "id": "c8343959",
   "metadata": {},
   "outputs": [
    {
     "name": "stdout",
     "output_type": "stream",
     "text": [
      "Total unique URLs with duplicates: 0\n"
     ]
    }
   ],
   "source": [
    "dupe_counts = dupes_df.groupby(\"url\").size()\n",
    "print(f\"Total unique URLs with duplicates: {len(dupe_counts)}\")"
   ]
  },
  {
   "cell_type": "code",
   "execution_count": 12,
   "id": "8d5fcf3b",
   "metadata": {},
   "outputs": [
    {
     "name": "stdout",
     "output_type": "stream",
     "text": [
      "Filter list is empty. Trying to expand all 75 URLs.\n",
      "\n",
      "Processing batch 1/1\n",
      "Loaded 0 results from checkpoint\n",
      "Processing 75 pending URLs in this batch\n"
     ]
    },
    {
     "name": "stderr",
     "output_type": "stream",
     "text": [
      "Expanding URLs: 100%|██████████| 75/75 [00:01<00:00, 67.42it/s] "
     ]
    },
    {
     "name": "stdout",
     "output_type": "stream",
     "text": [
      "Progress saved to striver-75-urls-expanded.json\n",
      "----------------------------------------------------------------------\n",
      "Progress saved to striver-75-urls-expanded.json\n",
      "----------------------------------------------------------------------\n",
      "\n",
      "75/75 URLs expanded in 2.30 seconds.\n"
     ]
    },
    {
     "name": "stderr",
     "output_type": "stream",
     "text": [
      "\n"
     ]
    }
   ],
   "source": [
    "import nest_asyncio\n",
    "nest_asyncio.apply()\n",
    "\n",
    "standardised_df = await standardise_urls_async(df, \"striver-75-urls-expanded.json\")"
   ]
  },
  {
   "cell_type": "code",
   "execution_count": 13,
   "id": "8fbceaf2",
   "metadata": {},
   "outputs": [
    {
     "data": {
      "text/plain": [
       "(75, 5)"
      ]
     },
     "execution_count": 13,
     "metadata": {},
     "output_type": "execute_result"
    }
   ],
   "source": [
    "standardised_df.shape"
   ]
  },
  {
   "cell_type": "code",
   "execution_count": 14,
   "id": "a64cfbe5",
   "metadata": {},
   "outputs": [],
   "source": [
    "# Adding type column\n",
    "standardised_df['type'] = standardised_df['expanded_stripped_url'].apply(\n",
    "    lambda url: \"problem\" if is_problem_url(url) else \"tutorial\"\n",
    ")"
   ]
  },
  {
   "cell_type": "code",
   "execution_count": 15,
   "id": "f8b681eb",
   "metadata": {},
   "outputs": [
    {
     "data": {
      "text/plain": [
       "(75, 6)"
      ]
     },
     "execution_count": 15,
     "metadata": {},
     "output_type": "execute_result"
    }
   ],
   "source": [
    "standardised_df.shape"
   ]
  },
  {
   "cell_type": "code",
   "execution_count": 16,
   "id": "cc226563",
   "metadata": {},
   "outputs": [
    {
     "data": {
      "text/html": [
       "<div>\n",
       "<style scoped>\n",
       "    .dataframe tbody tr th:only-of-type {\n",
       "        vertical-align: middle;\n",
       "    }\n",
       "\n",
       "    .dataframe tbody tr th {\n",
       "        vertical-align: top;\n",
       "    }\n",
       "\n",
       "    .dataframe thead th {\n",
       "        text-align: right;\n",
       "    }\n",
       "</style>\n",
       "<table border=\"1\" class=\"dataframe\">\n",
       "  <thead>\n",
       "    <tr style=\"text-align: right;\">\n",
       "      <th></th>\n",
       "      <th>url</th>\n",
       "      <th>original_title</th>\n",
       "      <th>step_title</th>\n",
       "      <th>expanded_url</th>\n",
       "      <th>expanded_stripped_url</th>\n",
       "      <th>type</th>\n",
       "    </tr>\n",
       "  </thead>\n",
       "  <tbody>\n",
       "    <tr>\n",
       "      <th>0</th>\n",
       "      <td>https://leetcode.com/problems/two-sum/</td>\n",
       "      <td>2Sum Problem</td>\n",
       "      <td>Array</td>\n",
       "      <td>https://leetcode.com/problems/two-sum/</td>\n",
       "      <td>https://leetcode.com/problems/two-sum/</td>\n",
       "      <td>problem</td>\n",
       "    </tr>\n",
       "  </tbody>\n",
       "</table>\n",
       "</div>"
      ],
      "text/plain": [
       "                                      url original_title step_title  \\\n",
       "0  https://leetcode.com/problems/two-sum/   2Sum Problem      Array   \n",
       "\n",
       "                             expanded_url  \\\n",
       "0  https://leetcode.com/problems/two-sum/   \n",
       "\n",
       "                    expanded_stripped_url     type  \n",
       "0  https://leetcode.com/problems/two-sum/  problem  "
      ]
     },
     "execution_count": 16,
     "metadata": {},
     "output_type": "execute_result"
    }
   ],
   "source": [
    "standardised_df.head(1)"
   ]
  },
  {
   "cell_type": "code",
   "execution_count": null,
   "id": "71a2bc39",
   "metadata": {},
   "outputs": [
    {
     "name": "stdout",
     "output_type": "stream",
     "text": [
      "Found 75 URLs.\n",
      "\n",
      "Batch 1/1: items 0-74\n",
      "Loaded 0 from checkpoint\n",
      "Processing 75 URLs...\n"
     ]
    },
    {
     "name": "stderr",
     "output_type": "stream",
     "text": [
      "Fetching items: 100%|██████████| 75/75 [00:01<00:00, 48.96it/s]"
     ]
    },
    {
     "name": "stdout",
     "output_type": "stream",
     "text": [
      "Saved progress (75 items) to striver-75-info-added.json\n",
      "------------------------------\n",
      "Saved progress (75 items) to striver-75-info-added.json\n",
      "------------------------------\n",
      "\n",
      "Fetched 75/75 items in 1.6s.\n"
     ]
    },
    {
     "name": "stderr",
     "output_type": "stream",
     "text": [
      "\n"
     ]
    }
   ],
   "source": [
    "# Adding id_base, id, title, platform columns\n",
    "import nest_asyncio\n",
    "nest_asyncio.apply()\n",
    "\n",
    "final_df = await fetch_info(standardised_df, \"striver-75-info-added.json\")"
   ]
  },
  {
   "cell_type": "code",
   "execution_count": 18,
   "id": "12d12e98",
   "metadata": {},
   "outputs": [
    {
     "data": {
      "text/plain": [
       "(75, 10)"
      ]
     },
     "execution_count": 18,
     "metadata": {},
     "output_type": "execute_result"
    }
   ],
   "source": [
    "final_df.shape"
   ]
  },
  {
   "cell_type": "code",
   "execution_count": 19,
   "id": "eef31781",
   "metadata": {},
   "outputs": [],
   "source": [
    "dump_df_to_json(final_df, export_file)"
   ]
  },
  {
   "cell_type": "code",
   "execution_count": null,
   "id": "fc6724a2",
   "metadata": {},
   "outputs": [],
   "source": []
  }
 ],
 "metadata": {
  "kernelspec": {
   "display_name": ".venv",
   "language": "python",
   "name": "python3"
  },
  "language_info": {
   "codemirror_mode": {
    "name": "ipython",
    "version": 3
   },
   "file_extension": ".py",
   "mimetype": "text/x-python",
   "name": "python",
   "nbconvert_exporter": "python",
   "pygments_lexer": "ipython3",
   "version": "3.13.0"
  }
 },
 "nbformat": 4,
 "nbformat_minor": 5
}
