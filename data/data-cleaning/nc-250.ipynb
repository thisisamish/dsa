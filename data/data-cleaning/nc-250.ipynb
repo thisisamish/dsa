{
 "cells": [
  {
   "cell_type": "code",
   "execution_count": 1,
   "metadata": {},
   "outputs": [],
   "source": [
    "%run utils/devtools.py"
   ]
  },
  {
   "cell_type": "code",
   "execution_count": 2,
   "metadata": {},
   "outputs": [
    {
     "name": "stdout",
     "output_type": "stream",
     "text": [
      "✅ Reloaded package 'utils' and its submodules.\n"
     ]
    }
   ],
   "source": [
    "%reloadmypkg utils\n",
    "\n",
    "import pandas as pd\n",
    "from utils.url2platform import *\n",
    "from utils.standardise_url import *\n",
    "from utils.fetch_info import *\n",
    "from utils.dump_df_to_json import *"
   ]
  },
  {
   "cell_type": "code",
   "execution_count": 3,
   "metadata": {},
   "outputs": [],
   "source": [
    "sheet_name = \"../raw-data/neetcode/250-sheet.json\"\n",
    "export_file = \"../cleaned-data/neetcode/250.json\""
   ]
  },
  {
   "cell_type": "code",
   "execution_count": 4,
   "metadata": {},
   "outputs": [],
   "source": [
    "with open(sheet_name) as file:\n",
    "    raw = json.load(file)\n",
    "\n",
    "df = pd.DataFrame(raw, columns=['url'])"
   ]
  },
  {
   "cell_type": "code",
   "execution_count": 5,
   "metadata": {},
   "outputs": [
    {
     "data": {
      "text/html": [
       "<div>\n",
       "<style scoped>\n",
       "    .dataframe tbody tr th:only-of-type {\n",
       "        vertical-align: middle;\n",
       "    }\n",
       "\n",
       "    .dataframe tbody tr th {\n",
       "        vertical-align: top;\n",
       "    }\n",
       "\n",
       "    .dataframe thead th {\n",
       "        text-align: right;\n",
       "    }\n",
       "</style>\n",
       "<table border=\"1\" class=\"dataframe\">\n",
       "  <thead>\n",
       "    <tr style=\"text-align: right;\">\n",
       "      <th></th>\n",
       "      <th>url</th>\n",
       "    </tr>\n",
       "  </thead>\n",
       "  <tbody>\n",
       "    <tr>\n",
       "      <th>0</th>\n",
       "      <td>https://leetcode.com/problems/concatenation-of...</td>\n",
       "    </tr>\n",
       "    <tr>\n",
       "      <th>1</th>\n",
       "      <td>https://leetcode.com/problems/contains-duplicate/</td>\n",
       "    </tr>\n",
       "  </tbody>\n",
       "</table>\n",
       "</div>"
      ],
      "text/plain": [
       "                                                 url\n",
       "0  https://leetcode.com/problems/concatenation-of...\n",
       "1  https://leetcode.com/problems/contains-duplicate/"
      ]
     },
     "execution_count": 5,
     "metadata": {},
     "output_type": "execute_result"
    }
   ],
   "source": [
    "df.head(2)"
   ]
  },
  {
   "cell_type": "code",
   "execution_count": 6,
   "metadata": {},
   "outputs": [
    {
     "data": {
      "text/plain": [
       "(250, 1)"
      ]
     },
     "execution_count": 6,
     "metadata": {},
     "output_type": "execute_result"
    }
   ],
   "source": [
    "df.shape"
   ]
  },
  {
   "cell_type": "code",
   "execution_count": 7,
   "metadata": {},
   "outputs": [
    {
     "data": {
      "text/plain": [
       "(0, 1)"
      ]
     },
     "execution_count": 7,
     "metadata": {},
     "output_type": "execute_result"
    }
   ],
   "source": [
    "# Find the duplicates\n",
    "\n",
    "dupes_df = df[df.duplicated(subset=\"url\", keep=False)]\n",
    "dupes_df.shape"
   ]
  },
  {
   "cell_type": "code",
   "execution_count": 8,
   "metadata": {},
   "outputs": [
    {
     "name": "stdout",
     "output_type": "stream",
     "text": [
      "Filter list is empty. Trying to expand all 250 URLs.\n",
      "\n",
      "Processing batch 1/2\n",
      "Loaded 0 results from checkpoint\n",
      "Processing 200 pending URLs in this batch\n"
     ]
    },
    {
     "name": "stderr",
     "output_type": "stream",
     "text": [
      "Expanding URLs: 100%|██████████| 200/200 [00:02<00:00, 96.91it/s] \n"
     ]
    },
    {
     "name": "stdout",
     "output_type": "stream",
     "text": [
      "Progress saved to neetcode-250-urls-expanded.json\n",
      "----------------------------------------------------------------------\n",
      "Progress saved to neetcode-250-urls-expanded.json\n",
      "----------------------------------------------------------------------\n",
      "\n",
      "Processing batch 2/2\n",
      "Loaded 200 results from checkpoint\n",
      "Processing 50 pending URLs in this batch\n"
     ]
    },
    {
     "name": "stderr",
     "output_type": "stream",
     "text": [
      "Expanding URLs: 100%|██████████| 50/50 [00:00<00:00, 64.03it/s]"
     ]
    },
    {
     "name": "stdout",
     "output_type": "stream",
     "text": [
      "Progress saved to neetcode-250-urls-expanded.json\n",
      "----------------------------------------------------------------------\n",
      "Progress saved to neetcode-250-urls-expanded.json\n",
      "----------------------------------------------------------------------\n",
      "\n",
      "250/250 URLs expanded in 6.82 seconds.\n"
     ]
    },
    {
     "name": "stderr",
     "output_type": "stream",
     "text": [
      "\n"
     ]
    }
   ],
   "source": [
    "import nest_asyncio\n",
    "nest_asyncio.apply()\n",
    "\n",
    "standardised_df = await standardise_urls_async(df, \"neetcode-250-urls-expanded.json\")"
   ]
  },
  {
   "cell_type": "code",
   "execution_count": 9,
   "metadata": {},
   "outputs": [
    {
     "data": {
      "text/plain": [
       "(250, 3)"
      ]
     },
     "execution_count": 9,
     "metadata": {},
     "output_type": "execute_result"
    }
   ],
   "source": [
    "standardised_df.shape"
   ]
  },
  {
   "cell_type": "code",
   "execution_count": 10,
   "metadata": {},
   "outputs": [],
   "source": [
    "# Adding type column\n",
    "standardised_df['type'] = standardised_df['expanded_stripped_url'].apply(\n",
    "    lambda url: \"problem\" if is_problem_url(url) else \"tutorial\"\n",
    ")"
   ]
  },
  {
   "cell_type": "code",
   "execution_count": 14,
   "metadata": {},
   "outputs": [
    {
     "name": "stdout",
     "output_type": "stream",
     "text": [
      "Found 250 URLs.\n",
      "\n",
      "Batch 1/2: items 0-199\n",
      "Loaded 249 from checkpoint\n",
      "Processing 1 URLs...\n"
     ]
    },
    {
     "name": "stderr",
     "output_type": "stream",
     "text": [
      "Fetching items:   0%|          | 0/1 [00:00<?, ?it/s]"
     ]
    },
    {
     "name": "stderr",
     "output_type": "stream",
     "text": [
      "Fetching items: 100%|██████████| 1/1 [00:00<00:00,  1.26it/s]"
     ]
    },
    {
     "name": "stdout",
     "output_type": "stream",
     "text": [
      "Saved progress (250 items) to neetcode-250-info-added.json\n",
      "------------------------------\n",
      "Saved progress (250 items) to neetcode-250-info-added.json\n",
      "------------------------------\n",
      "\n",
      "Batch 2/2: items 200-249\n",
      "Loaded 250 from checkpoint\n",
      "Nothing new in this batch\n",
      "Saved progress (250 items) to neetcode-250-info-added.json\n",
      "------------------------------\n",
      "\n",
      "Fetched 250/250 items in 0.9s.\n"
     ]
    },
    {
     "name": "stderr",
     "output_type": "stream",
     "text": [
      "\n"
     ]
    }
   ],
   "source": [
    "# Adding id_base, id, title, platform columns\n",
    "import nest_asyncio\n",
    "nest_asyncio.apply()\n",
    "\n",
    "final_df = await fetch_info(standardised_df, \"neetcode-250-info-added.json\", resume=True)"
   ]
  },
  {
   "cell_type": "code",
   "execution_count": 15,
   "metadata": {},
   "outputs": [
    {
     "data": {
      "text/plain": [
       "(250, 8)"
      ]
     },
     "execution_count": 15,
     "metadata": {},
     "output_type": "execute_result"
    }
   ],
   "source": [
    "final_df.shape"
   ]
  },
  {
   "cell_type": "code",
   "execution_count": 16,
   "metadata": {},
   "outputs": [],
   "source": [
    "dump_df_to_json(final_df, export_file)"
   ]
  },
  {
   "cell_type": "code",
   "execution_count": null,
   "metadata": {},
   "outputs": [],
   "source": []
  }
 ],
 "metadata": {
  "kernelspec": {
   "display_name": ".venv",
   "language": "python",
   "name": "python3"
  },
  "language_info": {
   "codemirror_mode": {
    "name": "ipython",
    "version": 3
   },
   "file_extension": ".py",
   "mimetype": "text/x-python",
   "name": "python",
   "nbconvert_exporter": "python",
   "pygments_lexer": "ipython3",
   "version": "3.13.0"
  }
 },
 "nbformat": 4,
 "nbformat_minor": 2
}
