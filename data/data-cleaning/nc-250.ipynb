{
 "cells": [
  {
   "cell_type": "code",
   "execution_count": 1,
   "metadata": {},
   "outputs": [],
   "source": [
    "import json\n",
    "import os\n",
    "from utils.parse4db import problems_parse4db"
   ]
  },
  {
   "cell_type": "code",
   "execution_count": 2,
   "metadata": {},
   "outputs": [],
   "source": [
    "sheet_name = \"../raw-data/neetcode/250-sheet.json\"\n",
    "export_file = \"../cleaned-data/neetcode/250.json\""
   ]
  },
  {
   "cell_type": "code",
   "execution_count": 3,
   "metadata": {},
   "outputs": [],
   "source": [
    "with open(sheet_name) as file:\n",
    "    raw = json.load(file)"
   ]
  },
  {
   "cell_type": "code",
   "execution_count": 5,
   "metadata": {},
   "outputs": [
    {
     "name": "stdout",
     "output_type": "stream",
     "text": [
      "Loaded 47 previously parsed items.\n"
     ]
    },
    {
     "name": "stderr",
     "output_type": "stream",
     "text": [
      "Processing URLs:  19%|█████████▉                                           | 47/250 [00:00<?, ?it/s]"
     ]
    },
    {
     "name": "stderr",
     "output_type": "stream",
     "text": [
      "Processing URLs: 100%|████████████████████████████████████████████| 250/250 [05:55<00:00,  1.75s/it]\n"
     ]
    }
   ],
   "source": [
    "nc250_parsed = problems_parse4db(raw, \"nc-250-progress.json\")"
   ]
  },
  {
   "cell_type": "code",
   "execution_count": 6,
   "metadata": {},
   "outputs": [
    {
     "data": {
      "text/plain": [
       "250"
      ]
     },
     "execution_count": 6,
     "metadata": {},
     "output_type": "execute_result"
    }
   ],
   "source": [
    "len(nc250_parsed)"
   ]
  },
  {
   "cell_type": "code",
   "execution_count": 7,
   "metadata": {},
   "outputs": [
    {
     "data": {
      "text/plain": [
       "[{'id': '1929LC',\n",
       "  'type': 'problem',\n",
       "  'title': 'Concatenation of Array',\n",
       "  'platform': 'LC',\n",
       "  'href': 'https://leetcode.com/problems/concatenation-of-array/'},\n",
       " {'id': '217LC',\n",
       "  'type': 'problem',\n",
       "  'title': 'Contains Duplicate',\n",
       "  'platform': 'LC',\n",
       "  'href': 'https://leetcode.com/problems/contains-duplicate/'},\n",
       " {'id': '242LC',\n",
       "  'type': 'problem',\n",
       "  'title': 'Valid Anagram',\n",
       "  'platform': 'LC',\n",
       "  'href': 'https://leetcode.com/problems/valid-anagram/'},\n",
       " {'id': '1LC',\n",
       "  'type': 'problem',\n",
       "  'title': 'Two Sum',\n",
       "  'platform': 'LC',\n",
       "  'href': 'https://leetcode.com/problems/two-sum/'},\n",
       " {'id': '14LC',\n",
       "  'type': 'problem',\n",
       "  'title': 'Longest Common Prefix',\n",
       "  'platform': 'LC',\n",
       "  'href': 'https://leetcode.com/problems/longest-common-prefix/'}]"
      ]
     },
     "execution_count": 7,
     "metadata": {},
     "output_type": "execute_result"
    }
   ],
   "source": [
    "nc250_parsed[:5]"
   ]
  },
  {
   "cell_type": "code",
   "execution_count": 8,
   "metadata": {},
   "outputs": [],
   "source": [
    "os.makedirs(os.path.dirname(export_file), exist_ok=True)"
   ]
  },
  {
   "cell_type": "code",
   "execution_count": 9,
   "metadata": {},
   "outputs": [],
   "source": [
    "with open(export_file, \"w\", encoding=\"utf-8\") as f:\n",
    "    json.dump(nc250_parsed, f, ensure_ascii=False, indent=4)"
   ]
  },
  {
   "cell_type": "code",
   "execution_count": null,
   "metadata": {},
   "outputs": [],
   "source": []
  }
 ],
 "metadata": {
  "kernelspec": {
   "display_name": ".venv",
   "language": "python",
   "name": "python3"
  },
  "language_info": {
   "codemirror_mode": {
    "name": "ipython",
    "version": 3
   },
   "file_extension": ".py",
   "mimetype": "text/x-python",
   "name": "python",
   "nbconvert_exporter": "python",
   "pygments_lexer": "ipython3",
   "version": "3.13.0"
  }
 },
 "nbformat": 4,
 "nbformat_minor": 2
}
